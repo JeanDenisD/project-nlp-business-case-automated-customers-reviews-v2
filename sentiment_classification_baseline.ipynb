{
 "cells": [
  {
   "cell_type": "markdown",
   "id": "4e24ad86",
   "metadata": {},
   "source": [
    " ## Load the cleaned dataset"
   ]
  },
  {
   "cell_type": "code",
   "execution_count": 2,
   "id": "0ec5c76d",
   "metadata": {},
   "outputs": [
    {
     "name": "stdout",
     "output_type": "stream",
     "text": [
      "Loaded dataset shape: (4385, 3)\n",
      "<bound method NDFrame.head of                                              clean_text  \\\n",
      "0     thought would big small paper turn like palm t...   \n",
      "1                     kindl light easi use especi beach   \n",
      "2     didnt know much id use kindl went lower end im...   \n",
      "3     happi purchas caught sale realli good price no...   \n",
      "4     solid entri level kindl great kid gift kid fri...   \n",
      "...                                                 ...   \n",
      "4380  yr old son love tableti plan purchas anoth fir...   \n",
      "4381  appreci eas purchas read found everi book titl...   \n",
      "4382                 great tablet price amazon good job   \n",
      "4383  tablet perfect size easi use read play game pu...   \n",
      "4384  thought get year old get screen protector case...   \n",
      "\n",
      "                                             categories  label  \n",
      "0     Computers,Electronics Features,Tablets,Electro...      1  \n",
      "1     Computers,Electronics Features,Tablets,Electro...      2  \n",
      "2     Computers,Electronics Features,Tablets,Electro...      2  \n",
      "3     Computers,Electronics Features,Tablets,Electro...      2  \n",
      "4     Computers,Electronics Features,Tablets,Electro...      2  \n",
      "...                                                 ...    ...  \n",
      "4380  Tablets,Fire Tablets,Electronics,iPad & Tablet...      2  \n",
      "4381  Tablets,Fire Tablets,Electronics,iPad & Tablet...      2  \n",
      "4382  Tablets,Fire Tablets,Electronics,iPad & Tablet...      2  \n",
      "4383  Tablets,Fire Tablets,Electronics,iPad & Tablet...      2  \n",
      "4384  Tablets,Fire Tablets,Electronics,iPad & Tablet...      2  \n",
      "\n",
      "[4385 rows x 3 columns]>\n"
     ]
    }
   ],
   "source": [
    "import pandas as pd\n",
    "\n",
    "df = pd.read_csv(\"data/cleaned_amazon_reviews_final.csv\")\n",
    "print(f\"Loaded dataset shape: {df.shape}\")\n",
    "print(df.head)\n"
   ]
  }
 ],
 "metadata": {
  "kernelspec": {
   "display_name": "base",
   "language": "python",
   "name": "python3"
  },
  "language_info": {
   "codemirror_mode": {
    "name": "ipython",
    "version": 3
   },
   "file_extension": ".py",
   "mimetype": "text/x-python",
   "name": "python",
   "nbconvert_exporter": "python",
   "pygments_lexer": "ipython3",
   "version": "3.12.7"
  }
 },
 "nbformat": 4,
 "nbformat_minor": 5
}
