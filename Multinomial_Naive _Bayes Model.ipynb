{
 "cells": [
  {
   "cell_type": "markdown",
   "id": "a20472f8",
   "metadata": {},
   "source": [
    "## Global Imports"
   ]
  },
  {
   "cell_type": "code",
   "execution_count": 100,
   "id": "0f887727",
   "metadata": {},
   "outputs": [],
   "source": [
    "from sklearn.feature_extraction.text import TfidfVectorizer\n",
    "from sklearn.model_selection import train_test_split\n",
    "from sklearn.utils import class_weight\n",
    "from sklearn.naive_bayes import MultinomialNB\n",
    "from sklearn.metrics import accuracy_score, classification_report, confusion_matrix\n",
    "import seaborn as sns\n",
    "import joblib \n",
    "import matplotlib.pyplot as plt\n",
    "import pandas as pd\n",
    "from sklearn.pipeline import Pipeline\n",
    "import numpy as np\n"
   ]
  },
  {
   "cell_type": "code",
   "execution_count": 94,
   "id": "03a6266c",
   "metadata": {},
   "outputs": [
    {
     "name": "stdout",
     "output_type": "stream",
     "text": [
      "Loaded dataset shape: (4385, 13)\n",
      "<bound method NDFrame.head of                                                    name       asins   brand  \\\n",
      "0     Amazon Kindle E-Reader 6\" Wifi (8th Generation...  B00ZV9PXP2  Amazon   \n",
      "1     Amazon Kindle E-Reader 6\" Wifi (8th Generation...  B00ZV9PXP2  Amazon   \n",
      "2     Amazon Kindle E-Reader 6\" Wifi (8th Generation...  B00ZV9PXP2  Amazon   \n",
      "3     Amazon Kindle E-Reader 6\" Wifi (8th Generation...  B00ZV9PXP2  Amazon   \n",
      "4     Amazon Kindle E-Reader 6\" Wifi (8th Generation...  B00ZV9PXP2  Amazon   \n",
      "...                                                 ...         ...     ...   \n",
      "4380  Fire Tablet with Alexa, 7\" Display, 16 GB, Mag...  B018Y224PY  Amazon   \n",
      "4381  Fire Tablet with Alexa, 7\" Display, 16 GB, Mag...  B018Y224PY  Amazon   \n",
      "4382  Fire Tablet with Alexa, 7\" Display, 16 GB, Mag...  B018Y224PY  Amazon   \n",
      "4383  Fire Tablet with Alexa, 7\" Display, 16 GB, Mag...  B018Y224PY  Amazon   \n",
      "4384  Fire Tablet with Alexa, 7\" Display, 16 GB, Mag...  B018Y224PY  Amazon   \n",
      "\n",
      "                                             categories primaryCategories  \\\n",
      "0     Computers,Electronics Features,Tablets,Electro...       Electronics   \n",
      "1     Computers,Electronics Features,Tablets,Electro...       Electronics   \n",
      "2     Computers,Electronics Features,Tablets,Electro...       Electronics   \n",
      "3     Computers,Electronics Features,Tablets,Electro...       Electronics   \n",
      "4     Computers,Electronics Features,Tablets,Electro...       Electronics   \n",
      "...                                                 ...               ...   \n",
      "4380  Tablets,Fire Tablets,Electronics,iPad & Tablet...       Electronics   \n",
      "4381  Tablets,Fire Tablets,Electronics,iPad & Tablet...       Electronics   \n",
      "4382  Tablets,Fire Tablets,Electronics,iPad & Tablet...       Electronics   \n",
      "4383  Tablets,Fire Tablets,Electronics,iPad & Tablet...       Electronics   \n",
      "4384  Tablets,Fire Tablets,Electronics,iPad & Tablet...       Electronics   \n",
      "\n",
      "                                              imageURLs  doRecommend  rating  \\\n",
      "0     https://pisces.bbystatic.com/image2/BestBuy_US...        False       3   \n",
      "1     https://pisces.bbystatic.com/image2/BestBuy_US...         True       5   \n",
      "2     https://pisces.bbystatic.com/image2/BestBuy_US...         True       4   \n",
      "3     https://pisces.bbystatic.com/image2/BestBuy_US...         True       5   \n",
      "4     https://pisces.bbystatic.com/image2/BestBuy_US...         True       5   \n",
      "...                                                 ...          ...     ...   \n",
      "4380  https://images-na.ssl-images-amazon.com/images...         True       5   \n",
      "4381  https://images-na.ssl-images-amazon.com/images...         True       5   \n",
      "4382  https://images-na.ssl-images-amazon.com/images...         True       5   \n",
      "4383  https://images-na.ssl-images-amazon.com/images...         True       5   \n",
      "4384  https://images-na.ssl-images-amazon.com/images...         True       5   \n",
      "\n",
      "                                                   text  \\\n",
      "0     I thought it would be as big as small paper bu...   \n",
      "1     This kindle is light and easy to use especiall...   \n",
      "2     Didnt know how much i'd use a kindle so went f...   \n",
      "3     I am 100 happy with my purchase. I caught it o...   \n",
      "4     Solid entry level Kindle. Great for kids. Gift...   \n",
      "...                                                 ...   \n",
      "4380  My 6yr old son loves the tablet!I plan on purc...   \n",
      "4381  I APPRECIATE the ease of purchasing and readin...   \n",
      "4382  This is a great tablet for the price. Amazon i...   \n",
      "4383  This tablet is the perfect size and so easy to...   \n",
      "4384  I had some thoughts about getting this for a 5...   \n",
      "\n",
      "                                             sourceURLs  \\\n",
      "0     https://www.newegg.com/Product/Product.aspx%25...   \n",
      "1     https://www.newegg.com/Product/Product.aspx%25...   \n",
      "2     https://www.newegg.com/Product/Product.aspx%25...   \n",
      "3     https://www.newegg.com/Product/Product.aspx%25...   \n",
      "4     https://www.newegg.com/Product/Product.aspx%25...   \n",
      "...                                                 ...   \n",
      "4380  https://www.barcodable.com/upc/841667103150,ht...   \n",
      "4381  https://www.barcodable.com/upc/841667103150,ht...   \n",
      "4382  https://www.barcodable.com/upc/841667103150,ht...   \n",
      "4383  https://www.barcodable.com/upc/841667103150,ht...   \n",
      "4384  https://www.barcodable.com/upc/841667103150,ht...   \n",
      "\n",
      "                                            full_review  label  \\\n",
      "0     Too small - I thought it would be as big as sm...      1   \n",
      "1     Great light reader. Easy to use at the beach -...      2   \n",
      "2     Great for the price - Didnt know how much i'd ...      2   \n",
      "3     A Great Buy - I am 100 happy with my purchase....      2   \n",
      "4     Solid entry-level Kindle. Great for kids - Sol...      2   \n",
      "...                                                 ...    ...   \n",
      "4380  Great tablet! - My 6yr old son loves the table...      2   \n",
      "4381  Im so happy with this product - Reading is GRE...      2   \n",
      "4382  Good product - This is a great tablet for the ...      2   \n",
      "4383  Great Tablet - This tablet is the perfect size...      2   \n",
      "4384  Very sturdy for a 5 year old - I had some thou...      2   \n",
      "\n",
      "                                             clean_text  \n",
      "0     too small i thought it would be a big a small ...  \n",
      "1     great light reader easy to use at the beach th...  \n",
      "2     great for the price didnt know how much id use...  \n",
      "3     a great buy i am happy with my purchase i caug...  \n",
      "4     solid entrylevel kindle great for kid solid en...  \n",
      "...                                                 ...  \n",
      "4380  great tablet my yr old son love the tableti pl...  \n",
      "4381  im so happy with this product reading is great...  \n",
      "4382  good product this is a great tablet for the pr...  \n",
      "4383  great tablet this tablet is the perfect size a...  \n",
      "4384  very sturdy for a year old i had some thought ...  \n",
      "\n",
      "[4385 rows x 13 columns]>\n"
     ]
    },
    {
     "data": {
      "text/plain": [
       "Index(['name', 'asins', 'brand', 'categories', 'primaryCategories',\n",
       "       'imageURLs', 'doRecommend', 'rating', 'text', 'sourceURLs',\n",
       "       'full_review', 'label', 'clean_text'],\n",
       "      dtype='object')"
      ]
     },
     "execution_count": 94,
     "metadata": {},
     "output_type": "execute_result"
    }
   ],
   "source": [
    "\n",
    "df = pd.read_csv(\"data/cleaned_amazon_reviews_final.csv\")\n",
    "print(f\"Loaded dataset shape: {df.shape}\")\n",
    "print(df.head)\n",
    "df.columns"
   ]
  },
  {
   "cell_type": "markdown",
   "id": "4346985a",
   "metadata": {},
   "source": [
    "# Prepare the Data\n"
   ]
  },
  {
   "cell_type": "code",
   "execution_count": 95,
   "id": "8a3203db",
   "metadata": {},
   "outputs": [],
   "source": [
    "X = df['clean_text']\n",
    "y = df['label']\n",
    "\n",
    "X_train, X_test, y_train, y_test = train_test_split(\n",
    "    X, y, test_size=0.2, random_state=42, stratify=y\n",
    ")\n",
    "\n"
   ]
  },
  {
   "cell_type": "markdown",
   "id": "6f9280ce",
   "metadata": {},
   "source": [
    "# Train the Multinomial Naive Bayes Model"
   ]
  },
  {
   "cell_type": "code",
   "execution_count": 104,
   "id": "75ec63db",
   "metadata": {},
   "outputs": [],
   "source": [
    "pipeline = Pipeline([\n",
    "    ('tfidf', TfidfVectorizer(ngram_range=(1, 2), max_features=10000, \n",
    "                             min_df=5, max_df=0.7)),\n",
    "    ('clf', MultinomialNB())\n",
    "])\n",
    "\n",
    "# Fit the pipeline on the training data\n",
    "pipeline.fit(X_train, y_train)\n",
    "\n",
    "# Make predictions on the test data\n",
    "y_pred = pipeline.predict(X_test)"
   ]
  },
  {
   "cell_type": "markdown",
   "id": "c2dcb0e0",
   "metadata": {},
   "source": [
    "# Evaluate the Model"
   ]
  },
  {
   "cell_type": "code",
   "execution_count": null,
   "id": "e4f86dd3",
   "metadata": {},
   "outputs": [
    {
     "name": "stdout",
     "output_type": "stream",
     "text": [
      "Accuracy: 0.9384264538198404\n"
     ]
    }
   ],
   "source": [
    "from sklearn.metrics import accuracy_score, classification_report, confusion_matrix\n",
    "print(\"Accuracy:\", accuracy_score(y_test, y_pred))"
   ]
  },
  {
   "cell_type": "code",
   "execution_count": null,
   "id": "db26601f",
   "metadata": {},
   "outputs": [
    {
     "name": "stdout",
     "output_type": "stream",
     "text": [
      "\n",
      "Classification Report:\n",
      "              precision    recall  f1-score   support\n",
      "\n",
      "           0       0.00      0.00      0.00        19\n",
      "           1       0.00      0.00      0.00        35\n",
      "           2       0.94      1.00      0.97       823\n",
      "\n",
      "    accuracy                           0.94       877\n",
      "   macro avg       0.31      0.33      0.32       877\n",
      "weighted avg       0.88      0.94      0.91       877\n",
      "\n"
     ]
    },
    {
     "name": "stderr",
     "output_type": "stream",
     "text": [
      "/opt/anaconda3/lib/python3.12/site-packages/sklearn/metrics/_classification.py:1531: UndefinedMetricWarning: Precision is ill-defined and being set to 0.0 in labels with no predicted samples. Use `zero_division` parameter to control this behavior.\n",
      "  _warn_prf(average, modifier, f\"{metric.capitalize()} is\", len(result))\n",
      "/opt/anaconda3/lib/python3.12/site-packages/sklearn/metrics/_classification.py:1531: UndefinedMetricWarning: Precision is ill-defined and being set to 0.0 in labels with no predicted samples. Use `zero_division` parameter to control this behavior.\n",
      "  _warn_prf(average, modifier, f\"{metric.capitalize()} is\", len(result))\n",
      "/opt/anaconda3/lib/python3.12/site-packages/sklearn/metrics/_classification.py:1531: UndefinedMetricWarning: Precision is ill-defined and being set to 0.0 in labels with no predicted samples. Use `zero_division` parameter to control this behavior.\n",
      "  _warn_prf(average, modifier, f\"{metric.capitalize()} is\", len(result))\n",
      "/opt/anaconda3/lib/python3.12/site-packages/sklearn/metrics/_classification.py:1531: UndefinedMetricWarning: Precision is ill-defined and being set to 0.0 in labels with no predicted samples. Use `zero_division` parameter to control this behavior.\n",
      "  _warn_prf(average, modifier, f\"{metric.capitalize()} is\", len(result))\n",
      "/opt/anaconda3/lib/python3.12/site-packages/sklearn/metrics/_classification.py:1531: UndefinedMetricWarning: Precision is ill-defined and being set to 0.0 in labels with no predicted samples. Use `zero_division` parameter to control this behavior.\n",
      "  _warn_prf(average, modifier, f\"{metric.capitalize()} is\", len(result))\n",
      "/opt/anaconda3/lib/python3.12/site-packages/sklearn/metrics/_classification.py:1531: UndefinedMetricWarning: Precision is ill-defined and being set to 0.0 in labels with no predicted samples. Use `zero_division` parameter to control this behavior.\n",
      "  _warn_prf(average, modifier, f\"{metric.capitalize()} is\", len(result))\n"
     ]
    },
    {
     "data": {
      "image/png": "[encoded data removed]",
      "text/plain": [
       "<Figure size 640x480 with 2 Axes>"
      ]
     },
     "metadata": {},
     "output_type": "display_data"
    }
   ],
   "source": [
    "print(\"\\nClassification Report:\")  \n",
    "print(classification_report(y_test, y_pred))\n",
    "\n",
    "from sklearn.metrics import classification_report\n",
    "import pandas as pd\n",
    "import seaborn as sns\n",
    "\n",
    "report = classification_report(y_test, y_pred, output_dict=True)\n",
    "df_report = pd.DataFrame(report).transpose()\n",
    "\n",
    "sns.heatmap(df_report.iloc[:-1, :-1], annot=True, cmap='YlGnBu')\n",
    "plt.title('Classification Report - Naive_Byes')\n",
    "plt.show()"
   ]
  },
  {
   "cell_type": "code",
   "execution_count": null,
   "id": "ebfe057a",
   "metadata": {},
   "outputs": [
    {
     "data": {
      "image/png": "[encoded data removed]",
      "text/plain": [
       "<Figure size 640x480 with 2 Axes>"
      ]
     },
     "metadata": {},
     "output_type": "display_data"
    }
   ],
   "source": [
    "cm = confusion_matrix(y_test, y_pred)\n",
    "sns.heatmap(cm, annot=True, fmt='d', cmap='Blues',\n",
    "            xticklabels=['Neg', 'Neutral', 'Pos'],\n",
    "            yticklabels=['Neg', 'Neutral', 'Pos'])\n",
    "plt.title(\"Confusion Matrix\")\n",
    "plt.xlabel(\"Predicted\")\n",
    "plt.ylabel(\"True\")\n",
    "\n",
    "plt.title('Confusion Matrix - Multinomial Naive Bayes')\n",
    "plt.show()\n"
   ]
  },
  {
   "cell_type": "code",
   "execution_count": null,
   "id": "74b576f1",
   "metadata": {},
   "outputs": [
    {
     "name": "stdout",
     "output_type": "stream",
     "text": [
      "              precision    recall  f1-score   support\n",
      "\n",
      "           0       0.00      0.00      0.00        19\n",
      "           1       0.00      0.00      0.00        35\n",
      "           2       0.94      1.00      0.97       823\n",
      "\n",
      "    accuracy                           0.94       877\n",
      "   macro avg       0.31      0.33      0.32       877\n",
      "weighted avg       0.88      0.94      0.91       877\n",
      "\n"
     ]
    },
    {
     "name": "stderr",
     "output_type": "stream",
     "text": [
      "/opt/anaconda3/lib/python3.12/site-packages/sklearn/metrics/_classification.py:1531: UndefinedMetricWarning: Precision is ill-defined and being set to 0.0 in labels with no predicted samples. Use `zero_division` parameter to control this behavior.\n",
      "  _warn_prf(average, modifier, f\"{metric.capitalize()} is\", len(result))\n",
      "/opt/anaconda3/lib/python3.12/site-packages/sklearn/metrics/_classification.py:1531: UndefinedMetricWarning: Precision is ill-defined and being set to 0.0 in labels with no predicted samples. Use `zero_division` parameter to control this behavior.\n",
      "  _warn_prf(average, modifier, f\"{metric.capitalize()} is\", len(result))\n",
      "/opt/anaconda3/lib/python3.12/site-packages/sklearn/metrics/_classification.py:1531: UndefinedMetricWarning: Precision is ill-defined and being set to 0.0 in labels with no predicted samples. Use `zero_division` parameter to control this behavior.\n",
      "  _warn_prf(average, modifier, f\"{metric.capitalize()} is\", len(result))\n"
     ]
    }
   ],
   "source": [
    "print(classification_report(y_test, y_pred))"
   ]
  },
  {
   "cell_type": "code",
   "execution_count": null,
   "id": "c5e7fe19",
   "metadata": {},
   "outputs": [
    {
     "name": "stdout",
     "output_type": "stream",
     "text": [
      "✅ Pipeline saved as sentiment_pipeline_Naive_Bayes.joblib\n"
     ]
    }
   ],
   "source": [
    "\n",
    "joblib.dump(pipeline, 'data/sentiment_pipeline_Naive_Bayes.joblib')\n",
    "print(\"✅ Pipeline saved as sentiment_pipeline_Naive_Bayes.joblib\")"
   ]
  }
 ],
 "metadata": {
  "kernelspec": {
   "display_name": "base",
   "language": "python",
   "name": "python3"
  },
  "language_info": {
   "codemirror_mode": {
    "name": "ipython",
    "version": 3
   },
   "file_extension": ".py",
   "mimetype": "text/x-python",
   "name": "python",
   "nbconvert_exporter": "python",
   "pygments_lexer": "ipython3",
   "version": "3.12.7"
  }
 },
 "nbformat": 4,
 "nbformat_minor": 5
}
