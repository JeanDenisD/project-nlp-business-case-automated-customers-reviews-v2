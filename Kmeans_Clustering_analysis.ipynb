{
 "cells": [
  {
   "cell_type": "markdown",
   "id": "6248c018",
   "metadata": {},
   "source": [
    "# 🧠 Product Clustering with UMAP + KMeans\n",
    "\n",
    "This notebook performs **unsupervised clustering** of product names using advanced NLP techniques:\n",
    "- Sentence embeddings (`SentenceTransformer`)\n",
    "- Dimensionality reduction (`UMAP`)\n",
    "- Clustering (`KMeans`)\n",
    "- Heuristic-based cluster labeling\n",
    "- Confidence scoring & interactive visualization\n",
    "- Model saving for reuse/deployment"
   ]
  },
  {
   "cell_type": "markdown",
   "id": "efd7dfcc",
   "metadata": {},
   "source": [
    "### Import Librairies"
   ]
  },
  {
   "cell_type": "code",
   "execution_count": 1,
   "id": "765c2e4b",
   "metadata": {},
   "outputs": [
    {
     "name": "stdout",
     "output_type": "stream",
     "text": [
      "WARNING:tensorflow:From c:\\Users\\jeand\\anaconda3\\Lib\\site-packages\\tf_keras\\src\\losses.py:2976: The name tf.losses.sparse_softmax_cross_entropy is deprecated. Please use tf.compat.v1.losses.sparse_softmax_cross_entropy instead.\n",
      "\n"
     ]
    }
   ],
   "source": [
    "import pandas as pd\n",
    "import re\n",
    "import matplotlib.pyplot as plt\n",
    "import umap\n",
    "import numpy as np\n",
    "import seaborn as sns\n",
    "import plotly.io as pio\n",
    "import plotly.graph_objects as go\n",
    "import json\n",
    "import os\n",
    "import joblib\n",
    "\n",
    "from datetime import datetime\n",
    "from sklearn.cluster import KMeans\n",
    "from sklearn.metrics import silhouette_score\n",
    "from sentence_transformers import SentenceTransformer\n",
    "from tqdm import tqdm"
   ]
  },
  {
   "cell_type": "markdown",
   "id": "d89d0ad2",
   "metadata": {},
   "source": [
    "### 1. Load and reprocess data"
   ]
  },
  {
   "cell_type": "code",
   "execution_count": 2,
   "id": "b1161e0b",
   "metadata": {},
   "outputs": [
    {
     "data": {
      "text/plain": [
       "(20063, 11)"
      ]
     },
     "execution_count": 2,
     "metadata": {},
     "output_type": "execute_result"
    }
   ],
   "source": [
    "# Load the dataset\n",
    "file_path = \"data/cleaned_amazon_reviews_final.csv\"\n",
    "df = pd.read_csv(file_path)\n",
    "df.shape"
   ]
  },
  {
   "cell_type": "code",
   "execution_count": 3,
   "id": "dfce38f5",
   "metadata": {},
   "outputs": [
    {
     "data": {
      "text/plain": [
       "(20063, 12)"
      ]
     },
     "execution_count": 3,
     "metadata": {},
     "output_type": "execute_result"
    }
   ],
   "source": [
    "# Preprocess names\n",
    "def clean_text(text):\n",
    "    text = re.sub(r'[^a-zA-Z\\s]', '', str(text))\n",
    "    return text.lower().strip()\n",
    "\n",
    "df[\"name_cleaned\"] = df[\"name\"].apply(clean_text)\n",
    "df.shape"
   ]
  },
  {
   "cell_type": "code",
   "execution_count": 4,
   "id": "e1f95a64",
   "metadata": {},
   "outputs": [],
   "source": [
    "# Utility function for plotting\n",
    "def plot_elbow_and_silhouette(embeddings, k_range=range(2, 20), random_state=42):\n",
    "    inertia = []\n",
    "    silhouette = []\n",
    "\n",
    "    for k in k_range:\n",
    "        kmeans = KMeans(n_clusters=k, random_state=random_state)\n",
    "        labels = kmeans.fit_predict(embeddings)\n",
    "        inertia.append(kmeans.inertia_)\n",
    "        silhouette.append(silhouette_score(embeddings, labels))\n",
    "\n",
    "    fig, axes = plt.subplots(1, 2, figsize=(14, 5))\n",
    "\n",
    "    # Elbow Plot\n",
    "    axes[0].plot(k_range, inertia, marker='o')\n",
    "    axes[0].set_title(\"Elbow Method\")\n",
    "    axes[0].set_xlabel(\"Number of Clusters (k)\")\n",
    "    axes[0].set_ylabel(\"Inertia\")\n",
    "\n",
    "    # Silhouette Plot\n",
    "    axes[1].plot(k_range, silhouette, marker='o', color='green')\n",
    "    axes[1].set_title(\"Silhouette Score\")\n",
    "    axes[1].set_xlabel(\"Number of Clusters (k)\")\n",
    "    axes[1].set_ylabel(\"Silhouette Score\")\n",
    "\n",
    "    plt.tight_layout()\n",
    "    plt.show()\n"
   ]
  },
  {
   "cell_type": "markdown",
   "id": "e4e63eea",
   "metadata": {},
   "source": [
    "## 2. Sentence Embeddings with Transformer\n",
    "\n",
    "We use `all-MiniLM-L6-v2` from **SentenceTransformers** to convert product names into dense vector embeddings that capture semantic similarity."
   ]
  },
  {
   "cell_type": "code",
   "execution_count": 5,
   "id": "7c7766b5",
   "metadata": {},
   "outputs": [
    {
     "data": {
      "application/vnd.jupyter.widget-view+json": {
       "model_id": "6dbfcceff403430da19526c46a1b9a6c",
       "version_major": 2,
       "version_minor": 0
      },
      "text/plain": [
       "Batches:   0%|          | 0/627 [00:00<?, ?it/s]"
      ]
     },
     "metadata": {},
     "output_type": "display_data"
    }
   ],
   "source": [
    "# Encode with MiniLM\n",
    "model = SentenceTransformer('all-MiniLM-L6-v2')\n",
    "embeddings = model.encode(df[\"name_cleaned\"].tolist(), show_progress_bar=True)"
   ]
  },
  {
   "cell_type": "markdown",
   "id": "73306c4a",
   "metadata": {},
   "source": [
    "### 3. 🌐 Dimensionality Reduction with UMAP\n",
    "\n",
    "We apply **UMAP** to reduce embedding dimensions (e.g., to 2D) while preserving local structure. This improves clustering performance and enables visualization.\n",
    "\n",
    "- `n_neighbors = 15`\n",
    "- `metric = cosine`"
   ]
  },
  {
   "cell_type": "code",
   "execution_count": 6,
   "id": "4b07d92d",
   "metadata": {},
   "outputs": [
    {
     "name": "stderr",
     "output_type": "stream",
     "text": [
      "c:\\Users\\jeand\\anaconda3\\Lib\\site-packages\\umap\\umap_.py:1952: UserWarning: n_jobs value 1 overridden to 1 by setting random_state. Use no seed for parallelism.\n",
      "  warn(\n"
     ]
    }
   ],
   "source": [
    "# UMAP Dimensionality Reduction (for visualization & clustering)\n",
    "umap_model = umap.UMAP(n_components=2, random_state=42, metric='cosine')\n",
    "umap_embeddings = umap_model.fit_transform(embeddings)"
   ]
  },
  {
   "cell_type": "markdown",
   "id": "cbdebaf9",
   "metadata": {},
   "source": [
    "### 4. Pipeline Clustering with UMAP and KMeans\n",
    "\n",
    "We cluster the reduced embeddings using **KMeans**.\n",
    "- We use `n_clusters = 11` (determined by silhouette analysis)\n",
    "- Each product gets assigned a cluster label"
   ]
  },
  {
   "cell_type": "code",
   "execution_count": 7,
   "id": "251d5c55",
   "metadata": {},
   "outputs": [
    {
     "name": "stderr",
     "output_type": "stream",
     "text": [
      "100%|██████████| 7/7 [01:02<00:00,  8.90s/it]\n"
     ]
    },
    {
     "name": "stdout",
     "output_type": "stream",
     "text": [
      "\n",
      "✅ Best number of clusters (UMAP space): 11 (Silhouette: 0.738)\n"
     ]
    },
    {
     "data": {
      "image/png": "[encoded data removed]",
      "text/plain": [
       "<Figure size 1000x600 with 2 Axes>"
      ]
     },
     "metadata": {},
     "output_type": "display_data"
    }
   ],
   "source": [
    "# Step 4: Auto-tune KMeans using Silhouette Score\n",
    "scores = []\n",
    "for n in tqdm(range(5, 12)):\n",
    "    kmeans = KMeans(n_clusters=n, random_state=42)\n",
    "    labels = kmeans.fit_predict(umap_embeddings)\n",
    "    score = silhouette_score(umap_embeddings, labels)\n",
    "    scores.append((n, score))\n",
    "\n",
    "# Step 5: Best n_clusters\n",
    "best_n, best_score = max(scores, key=lambda x: x[1])\n",
    "print(f\"\\n✅ Best number of clusters (UMAP space): {best_n} (Silhouette: {best_score:.3f})\")\n",
    "\n",
    "# Step 6: Final KMeans on UMAP embeddings\n",
    "kmeans = KMeans(n_clusters=best_n, random_state=42)\n",
    "df[\"umap_kmeans_cluster\"] = kmeans.fit_predict(umap_embeddings)\n",
    "df[\"umap_x\"] = umap_embeddings[:, 0]\n",
    "df[\"umap_y\"] = umap_embeddings[:, 1]\n",
    "\n",
    "# Step 7: UMAP Cluster Visualization\n",
    "plt.figure(figsize=(10, 6))\n",
    "scatter = plt.scatter(df[\"umap_x\"], df[\"umap_y\"], c=df[\"umap_kmeans_cluster\"], cmap=\"tab10\", alpha=0.6)\n",
    "plt.title(f\"UMAP + KMeans Clustering (n={best_n})\")\n",
    "plt.xlabel(\"UMAP Dimension 1\")\n",
    "plt.ylabel(\"UMAP Dimension 2\")\n",
    "plt.colorbar(scatter, label=\"Cluster ID\")\n",
    "plt.grid(True)\n",
    "plt.show()\n"
   ]
  },
  {
   "cell_type": "markdown",
   "id": "5910a875",
   "metadata": {},
   "source": [
    "### 5. Cluster Summarization\n",
    "\n",
    "We extract:\n",
    "- **Top frequent terms** from product names per cluster (based on token frequency)\n",
    "- **Top Brands**, **Top Categories**\n",
    "- **Representative product titles** from each cluster\n",
    "\n",
    "These help interpret and heuristically label each cluster automatically."
   ]
  },
  {
   "cell_type": "code",
   "execution_count": 8,
   "id": "77435128",
   "metadata": {},
   "outputs": [],
   "source": [
    "from collections import Counter\n",
    "\n",
    "def top_terms_per_cluster(df, n_terms=10):\n",
    "    results = {}\n",
    "    for cluster_id in sorted(df[\"umap_kmeans_cluster\"].unique()):\n",
    "        if cluster_id == -1:\n",
    "            continue  # skip noise\n",
    "        texts = df[df[\"umap_kmeans_cluster\"] == cluster_id][\"name_cleaned\"]\n",
    "        all_words = \" \".join(texts).split()\n",
    "        most_common = Counter(all_words).most_common(n_terms)\n",
    "        results[cluster_id] = most_common\n",
    "    return results"
   ]
  },
  {
   "cell_type": "code",
   "execution_count": 9,
   "id": "2437eca8",
   "metadata": {},
   "outputs": [
    {
     "name": "stdout",
     "output_type": "stream",
     "text": [
      "\n",
      "🔹 Cluster 0 Top Terms:\n",
      "  amazonbasics: 7748\n",
      "  aaa: 7748\n",
      "  performance: 7748\n",
      "  alkaline: 7748\n",
      "  batteries: 7748\n",
      "  count: 7748\n",
      "\n",
      "🔹 Cluster 1 Top Terms:\n",
      "  hd: 3448\n",
      "  allnew: 1724\n",
      "  fire: 1724\n",
      "  tablet: 1724\n",
      "  display: 1724\n",
      "  wifi: 1724\n",
      "  gb: 1724\n",
      "  includes: 1724\n",
      "  special: 1724\n",
      "  offers: 1724\n",
      "\n",
      "🔹 Cluster 2 Top Terms:\n",
      "  with: 2707\n",
      "  hd: 2702\n",
      "  fire: 1367\n",
      "  alexa: 1358\n",
      "  tablet: 1349\n",
      "  display: 1349\n",
      "  gb: 1349\n",
      "  special: 1349\n",
      "  offers: 1349\n",
      "  allnew: 992\n",
      "\n",
      "🔹 Cluster 3 Top Terms:\n",
      "  amazon: 1365\n",
      "  alexaenabled: 1365\n",
      "  bluetooth: 984\n",
      "  speaker: 983\n",
      "  echo: 753\n",
      "  show: 753\n",
      "  with: 753\n",
      "  screen: 753\n",
      "  tap: 612\n",
      "  black: 393\n",
      "\n",
      "🔹 Cluster 4 Top Terms:\n",
      "  fire: 860\n",
      "  tablet: 860\n",
      "  display: 860\n",
      "  gb: 860\n",
      "  kids: 777\n",
      "  edition: 777\n",
      "  kidproof: 777\n",
      "  case: 777\n",
      "  blue: 669\n",
      "  wifi: 586\n",
      "\n",
      "🔹 Cluster 5 Top Terms:\n",
      "  amazonbasics: 1494\n",
      "  aa: 1494\n",
      "  performance: 1494\n",
      "  alkaline: 1494\n",
      "  batteries: 1494\n",
      "  count: 1494\n",
      "  packaging: 1494\n",
      "  may: 1494\n",
      "  vary: 1494\n",
      "  kindle: 424\n",
      "\n",
      "🔹 Cluster 6 Top Terms:\n",
      "  hd: 1658\n",
      "  display: 1108\n",
      "  wifi: 1108\n",
      "  includes: 1108\n",
      "  special: 1108\n",
      "  offers: 1108\n",
      "  allnew: 839\n",
      "  fire: 829\n",
      "  tablet: 829\n",
      "  gb: 829\n",
      "\n",
      "🔹 Cluster 7 Top Terms:\n",
      "  fire: 1196\n",
      "  kids: 1196\n",
      "  edition: 1196\n",
      "  tablet: 1196\n",
      "  display: 1196\n",
      "  wifi: 1196\n",
      "  gb: 1196\n",
      "  kidproof: 1196\n",
      "  case: 1196\n",
      "  pink: 1009\n",
      "\n",
      "🔹 Cluster 8 Top Terms:\n",
      "  amazon: 739\n",
      "  echo: 614\n",
      "  plus: 590\n",
      "  w: 590\n",
      "  builtin: 590\n",
      "  hub: 590\n",
      "  silver: 590\n",
      "  hd: 260\n",
      "  with: 244\n",
      "  fire: 186\n",
      "\n",
      "🔹 Cluster 9 Top Terms:\n",
      "  gb: 900\n",
      "  wifi: 700\n",
      "  kindle: 644\n",
      "  display: 583\n",
      "  amazon: 535\n",
      "  fire: 532\n",
      "  tablet: 489\n",
      "  hd: 426\n",
      "  blue: 394\n",
      "  includes: 303\n",
      "\n",
      "🔹 Cluster 10 Top Terms:\n",
      "  fire: 1016\n",
      "  tablet: 1016\n",
      "  display: 1016\n",
      "  gb: 1016\n",
      "  wifi: 783\n",
      "  includes: 783\n",
      "  special: 783\n",
      "  offers: 783\n",
      "  black: 719\n",
      "  hd: 594\n"
     ]
    }
   ],
   "source": [
    "# Get top 10 terms for each cluster\n",
    "top_terms = top_terms_per_cluster(df, n_terms=10)\n",
    "\n",
    "# Print top terms\n",
    "for cid, terms in top_terms.items():\n",
    "    print(f\"\\n🔹 Cluster {cid} Top Terms:\")\n",
    "    for word, freq in terms:\n",
    "        print(f\"  {word}: {freq}\")"
   ]
  },
  {
   "cell_type": "code",
   "execution_count": 10,
   "id": "ccf6e38d",
   "metadata": {},
   "outputs": [],
   "source": [
    "def summarize_cluster(df, cluster_col=\"umap_kmeans_cluster\", n_terms=5):\n",
    "    summary = {}\n",
    "    for cluster_id in sorted(df[cluster_col].unique()):\n",
    "        cluster_data = df[df[cluster_col] == cluster_id]\n",
    "        brands = cluster_data[\"brand\"].value_counts().head(n_terms).to_dict()\n",
    "        primary = cluster_data[\"primaryCategories\"].value_counts().head(n_terms).to_dict()\n",
    "        categories = (\n",
    "            cluster_data[\"categories\"]\n",
    "            .str.split(\",\")\n",
    "            .explode()\n",
    "            .value_counts()\n",
    "            .head(n_terms)\n",
    "            .to_dict()\n",
    "        )\n",
    "        samples = cluster_data[\"name\"].dropna().unique()[:3].tolist()\n",
    "\n",
    "        summary[cluster_id] = {\n",
    "            \"top_brands\": brands,\n",
    "            \"top_primaryCategories\": primary,\n",
    "            \"top_categories\": categories,\n",
    "            \"sample_names\": samples,\n",
    "        }\n",
    "    return summary\n"
   ]
  },
  {
   "cell_type": "code",
   "execution_count": 11,
   "id": "36641673",
   "metadata": {},
   "outputs": [
    {
     "name": "stdout",
     "output_type": "stream",
     "text": [
      "\n",
      "🔷 Cluster 0\n",
      "Top Brands: {'Amazonbasics': 7748}\n",
      "Primary Categories: {'Health & Beauty': 7748}\n",
      "Top Categories: {'Health': 15496, 'AA': 7748, 'Robot Check': 7748, ' Household & Baby Care': 7748, 'Batteries & Chargers': 7748}\n",
      "Sample Names: ['AmazonBasics AAA Performance Alkaline Batteries (36 Count)']\n",
      "\n",
      "🔷 Cluster 1\n",
      "Top Brands: {'Amazon': 1724}\n",
      "Primary Categories: {'Electronics': 1724}\n",
      "Top Categories: {'Fire Tablets': 1724, 'Tablets': 1724, 'Computers/Tablets & Networking': 1724, 'Computers & Tablets': 1724, 'All Tablets': 1724}\n",
      "Sample Names: ['All-New Fire HD 8 Tablet, 8\" HD Display, Wi-Fi, 32 GB - Includes Special Offers, Black', 'All-New Fire HD 8 Tablet, 8 HD Display, Wi-Fi, 16 GB - Includes Special Offers, Black', 'All-New Fire HD 8 Tablet, 8 HD Display, Wi-Fi, 32 GB - Includes Special Offers, Black']\n",
      "\n",
      "🔷 Cluster 2\n",
      "Top Brands: {'Amazon': 1374}\n",
      "Primary Categories: {'Electronics': 1374}\n",
      "Top Categories: {'All Tablets': 1349, 'Computers & Tablets': 1349, 'Fire Tablets': 1349, 'Tablets': 1349, 'Amazon Tablets': 1321}\n",
      "Sample Names: ['Amazon Fire TV with 4K Ultra HD and Alexa Voice Remote (Pendant Design) | Streaming Media Player', 'Fire HD 8 Tablet with Alexa, 8\" HD Display, 32 GB, Tangerine - with Special Offers', 'Fire TV Stick Streaming Media Player Pair Kit']\n",
      "\n",
      "🔷 Cluster 3\n",
      "Top Brands: {'Amazon': 1365, 'Amazonbasics': 45, 'AmazonBasics': 6}\n",
      "Primary Categories: {'Electronics,Hardware': 753, 'Electronics': 662, 'Home & Garden': 1}\n",
      "Top Categories: {'Electronics': 1924, 'Electronics Features': 1382, 'Speakers': 1370, 'Home Improvement': 1365, 'Amazon Echo': 1365}\n",
      "Sample Names: ['Amazon Echo Show Alexa-enabled Bluetooth Speaker with 7\" Screen', 'Amazon Tap - Alexa-Enabled Portable Bluetooth Speaker', 'AmazonBasics 11.6-Inch Laptop Sleeve']\n",
      "\n",
      "🔷 Cluster 4\n",
      "Top Brands: {'Amazon': 860, 'Amazonbasics': 51, 'AmazonBasics': 4}\n",
      "Primary Categories: {'Electronics': 900, 'Office Supplies': 9, 'Animals & Pet Supplies': 5, 'Home & Garden': 1}\n",
      "Top Categories: {'Electronics': 1294, 'Fire Tablets': 860, 'Amazon Tablets': 860, 'Computers & Tablets': 860, 'Tablets': 860}\n",
      "Sample Names: ['Fire Kids Edition Tablet, 7 Display, Wi-Fi, 16 GB, Blue Kid-Proof Case', 'AmazonBasics Nylon CD/DVD Binder (400 Capacity)', 'AmazonBasics Ventilated Adjustable Laptop Stand']\n",
      "\n",
      "🔷 Cluster 5\n",
      "Top Brands: {'Amazonbasics': 1494, 'Amazon': 424}\n",
      "Primary Categories: {'Health & Beauty': 1494, 'Electronics': 424}\n",
      "Top Categories: {'Health': 2988, 'Electronics Features': 1918, 'Electronics': 1918, 'AA': 1494, 'Camera Batteries': 1494}\n",
      "Sample Names: ['AmazonBasics AA Performance Alkaline Batteries (48 Count) - Packaging May Vary', 'Kindle Voyage E-reader, 6 High-Resolution Display (300 ppi) with Adaptive Built-in Light, PagePress Sensors, Wi-Fi - Includes Special Offers']\n",
      "\n",
      "🔷 Cluster 6\n",
      "Top Brands: {'Amazon': 1108}\n",
      "Primary Categories: {'Electronics': 851, 'Office Supplies,Electronics': 226, 'Electronics,Media': 31}\n",
      "Top Categories: {'Computers & Tablets': 1108, 'Tablets': 1077, 'Electronics': 1077, 'All Tablets': 1077, 'iPad & Tablets': 1032}\n",
      "Sample Names: ['Kindle E-reader - White, 6 Glare-Free Touchscreen Display, Wi-Fi - Includes Special Offers', 'Kindle Oasis E-reader with Leather Charging Cover - Merlot, 6 High-Resolution Display (300 ppi), Wi-Fi - Includes Special Offers', 'All-New Fire HD 8 Tablet, 8\" HD Display, Wi-Fi, 16 GB - Includes Special Offers, Magenta']\n",
      "\n",
      "🔷 Cluster 7\n",
      "Top Brands: {'Amazon': 1196}\n",
      "Primary Categories: {'Toys & Games,Electronics': 1009, 'Electronics': 187}\n",
      "Top Categories: {'Electronics': 2018, 'Fire Tablets': 1196, 'Tablets': 1196, 'Amazon Tablets': 1196, 'Computers & Tablets': 1196}\n",
      "Sample Names: ['Fire Kids Edition Tablet, 7 Display, Wi-Fi, 16 GB, Green Kid-Proof Case', 'Fire Kids Edition Tablet, 7 Display, Wi-Fi, 16 GB, Pink Kid-Proof Case']\n",
      "\n",
      "🔷 Cluster 8\n",
      "Top Brands: {'Amazon': 800, 'Amazonbasics': 1}\n",
      "Primary Categories: {'Electronics,Hardware': 590, 'Electronics': 208, 'Electronics,Furniture': 2, 'Animals & Pet Supplies': 1}\n",
      "Top Categories: {'Amazon': 743, 'Amazon Echo': 614, 'Amazon Home': 614, 'Digital Device 3': 614, 'Voice Assistants': 598}\n",
      "Sample Names: ['Amazon - Echo Plus w/ Built-In Hub - Silver', 'Fire Tablet with Alexa, 7\" Display, 16 GB, Magenta - with Special Offers', 'Amazon Echo ‚Äì White']\n",
      "\n",
      "🔷 Cluster 9\n",
      "Top Brands: {'Amazon': 847}\n",
      "Primary Categories: {'Electronics': 698, 'Office Supplies,Electronics': 95, 'Electronics,Media': 54}\n",
      "Top Categories: {'Computers & Tablets': 732, 'Tablets': 692, 'All Tablets': 666, 'Computers/Tablets & Networking': 385, 'Tablets & eBook Readers': 372}\n",
      "Sample Names: ['Amazon Kindle E-Reader 6\" Wifi (8th Generation, 2016)', 'Amazon 9W PowerFast Official OEM USB Charger and Power Adapter for Fire Tablets and Kindle eReaders', 'All-New Fire HD 8 Tablet, 8 HD Display, Wi-Fi, 16 GB - Includes Special Offers, Blue']\n",
      "\n",
      "🔷 Cluster 10\n",
      "Top Brands: {'Amazon': 1016}\n",
      "Primary Categories: {'Electronics': 952, 'Office Supplies,Electronics': 64}\n",
      "Top Categories: {'Fire Tablets': 1016, 'Tablets': 1016, 'Amazon Tablets': 1016, 'Computers & Tablets': 1016, 'Computers/Tablets & Networking': 952}\n",
      "Sample Names: ['Fire Tablet, 7 Display, Wi-Fi, 16 GB - Includes Special Offers, Black', 'Fire HD 10 Tablet, 10.1 HD Display, Wi-Fi, 16 GB - Includes Special Offers, Silver Aluminum', 'All-New Fire HD 8 Kids Edition Tablet, 8 HD Display, 32 GB, Blue Kid-Proof Case']\n"
     ]
    }
   ],
   "source": [
    "cluster_summary = summarize_cluster(df)\n",
    "for cid, details in cluster_summary.items():\n",
    "    print(f\"\\n🔷 Cluster {cid}\")\n",
    "    print(\"Top Brands:\", details[\"top_brands\"])\n",
    "    print(\"Primary Categories:\", details[\"top_primaryCategories\"])\n",
    "    print(\"Top Categories:\", details[\"top_categories\"])\n",
    "    print(\"Sample Names:\", details[\"sample_names\"])\n"
   ]
  },
  {
   "cell_type": "markdown",
   "id": "4e196bd4",
   "metadata": {},
   "source": [
    "### 6. Automatic Cluster Labeling\n",
    "\n",
    "We heuristically assign a human-readable name to each cluster by combining:\n",
    "- Most common brand\n",
    "- Dominant category\n",
    "- Most frequent TF-IDF keywords\n",
    "\n",
    "This step reduces the need for manual inspection."
   ]
  },
  {
   "cell_type": "code",
   "execution_count": 12,
   "id": "f399e203",
   "metadata": {},
   "outputs": [],
   "source": [
    "from collections import defaultdict\n",
    "\n",
    "# Auto-labeling function with lowercasing and basic keyword detection\n",
    "def label_from_summary(summary_entry):\n",
    "    categories = {k.lower(): v for k, v in summary_entry.get(\"top_categories\", {}).items()}\n",
    "    brands = {k.lower(): v for k, v in summary_entry.get(\"top_brands\", {}).items()}\n",
    "    samples = [s.lower() for s in summary_entry.get(\"sample_names\", [])]\n",
    "\n",
    "    # 1. Detect battery types\n",
    "    if \"aaa\" in categories or any(\"aaa\" in name for name in samples):\n",
    "        return \"AAA Batteries\"\n",
    "    if \"aa\" in categories or any(\"aa\" in name for name in samples):\n",
    "        return \"AA Batteries\"\n",
    "\n",
    "    # 2. Fire Tablets (generic or kids)\n",
    "    if \"fire tablets\" in categories:\n",
    "        return \"Fire Tablet\"\n",
    "\n",
    "    # 3. Kindle-related\n",
    "    if any(\"kindle\" in name for name in samples):\n",
    "        return \"Kindle Device or Accessory\"\n",
    "\n",
    "    # 4. Echo / Alexa Devices\n",
    "    if any(k in categories for k in [\"amazon echo\", \"voice assistants\", \"smart home\"]):\n",
    "        return \"Echo / Alexa Smart Device\"\n",
    "    if any(\"echo\" in name or \"alexa\" in name for name in samples):\n",
    "        return \"Echo / Alexa Smart Device\"\n",
    "\n",
    "    # 5. Catch-all fallback\n",
    "    return \"Uncategorized Product Group\"\n",
    "\n",
    "\n",
    "\n",
    "\n"
   ]
  },
  {
   "cell_type": "code",
   "execution_count": 13,
   "id": "1ef707ce",
   "metadata": {},
   "outputs": [],
   "source": [
    "# Apply auto-labeling\n",
    "auto_cluster_labels = {\n",
    "    cid: label_from_summary(summary_entry)\n",
    "    for cid, summary_entry in cluster_summary.items()\n",
    "}"
   ]
  },
  {
   "cell_type": "code",
   "execution_count": 14,
   "id": "d1291bb6",
   "metadata": {},
   "outputs": [
    {
     "data": {
      "text/html": [
       "<div>\n",
       "<style scoped>\n",
       "    .dataframe tbody tr th:only-of-type {\n",
       "        vertical-align: middle;\n",
       "    }\n",
       "\n",
       "    .dataframe tbody tr th {\n",
       "        vertical-align: top;\n",
       "    }\n",
       "\n",
       "    .dataframe thead th {\n",
       "        text-align: right;\n",
       "    }\n",
       "</style>\n",
       "<table border=\"1\" class=\"dataframe\">\n",
       "  <thead>\n",
       "    <tr style=\"text-align: right;\">\n",
       "      <th></th>\n",
       "      <th>cluster_id</th>\n",
       "      <th>auto_label</th>\n",
       "    </tr>\n",
       "  </thead>\n",
       "  <tbody>\n",
       "    <tr>\n",
       "      <th>0</th>\n",
       "      <td>0</td>\n",
       "      <td>AAA Batteries</td>\n",
       "    </tr>\n",
       "    <tr>\n",
       "      <th>1</th>\n",
       "      <td>1</td>\n",
       "      <td>Fire Tablet</td>\n",
       "    </tr>\n",
       "    <tr>\n",
       "      <th>2</th>\n",
       "      <td>2</td>\n",
       "      <td>Fire Tablet</td>\n",
       "    </tr>\n",
       "    <tr>\n",
       "      <th>3</th>\n",
       "      <td>3</td>\n",
       "      <td>Echo / Alexa Smart Device</td>\n",
       "    </tr>\n",
       "    <tr>\n",
       "      <th>4</th>\n",
       "      <td>4</td>\n",
       "      <td>Fire Tablet</td>\n",
       "    </tr>\n",
       "    <tr>\n",
       "      <th>5</th>\n",
       "      <td>5</td>\n",
       "      <td>AA Batteries</td>\n",
       "    </tr>\n",
       "    <tr>\n",
       "      <th>6</th>\n",
       "      <td>6</td>\n",
       "      <td>Kindle Device or Accessory</td>\n",
       "    </tr>\n",
       "    <tr>\n",
       "      <th>7</th>\n",
       "      <td>7</td>\n",
       "      <td>Fire Tablet</td>\n",
       "    </tr>\n",
       "    <tr>\n",
       "      <th>8</th>\n",
       "      <td>8</td>\n",
       "      <td>Echo / Alexa Smart Device</td>\n",
       "    </tr>\n",
       "    <tr>\n",
       "      <th>9</th>\n",
       "      <td>9</td>\n",
       "      <td>Kindle Device or Accessory</td>\n",
       "    </tr>\n",
       "    <tr>\n",
       "      <th>10</th>\n",
       "      <td>10</td>\n",
       "      <td>Fire Tablet</td>\n",
       "    </tr>\n",
       "  </tbody>\n",
       "</table>\n",
       "</div>"
      ],
      "text/plain": [
       "    cluster_id                  auto_label\n",
       "0            0               AAA Batteries\n",
       "1            1                 Fire Tablet\n",
       "2            2                 Fire Tablet\n",
       "3            3   Echo / Alexa Smart Device\n",
       "4            4                 Fire Tablet\n",
       "5            5                AA Batteries\n",
       "6            6  Kindle Device or Accessory\n",
       "7            7                 Fire Tablet\n",
       "8            8   Echo / Alexa Smart Device\n",
       "9            9  Kindle Device or Accessory\n",
       "10          10                 Fire Tablet"
      ]
     },
     "execution_count": 14,
     "metadata": {},
     "output_type": "execute_result"
    }
   ],
   "source": [
    "\n",
    "# Convert to DataFrame for clarity\n",
    "label_df = pd.DataFrame([\n",
    "    {\"cluster_id\": cid, \"auto_label\": label}\n",
    "    for cid, label in auto_cluster_labels.items()\n",
    "])\n",
    "label_df\n"
   ]
  },
  {
   "cell_type": "code",
   "execution_count": 15,
   "id": "2d102762",
   "metadata": {},
   "outputs": [],
   "source": [
    "# Labeling function to evaluate confidence score\n",
    "def label_with_confidence(summary_entry):\n",
    "    categories = {k.lower(): v for k, v in summary_entry.get(\"top_categories\", {}).items()}\n",
    "    brands = {k.lower(): v for k, v in summary_entry.get(\"top_brands\", {}).items()}\n",
    "    samples = [s.lower() for s in summary_entry.get(\"sample_names\", [])]\n",
    "\n",
    "    label = \"Uncategorized Product Group\"\n",
    "    confidence = 0.3  # default low confidence\n",
    "\n",
    "    # Helper to check if keyword is strongly present\n",
    "    def strong_presence(keyword):\n",
    "        return any(keyword in name for name in samples) or keyword in categories\n",
    "\n",
    "    if \"aaa\" in categories or strong_presence(\"aaa\"):\n",
    "        label = \"Batteries\"\n",
    "        confidence = 0.95\n",
    "    elif \"aa\" in categories or strong_presence(\"aa\"):\n",
    "        label = \"Batteries\"\n",
    "        confidence = 0.95\n",
    "    elif \"fire tablets\" in categories:\n",
    "        label = \"Tablet\"\n",
    "        confidence = 0.88\n",
    "    elif any(\"kindle\" in name for name in samples):\n",
    "        label = \"Kindle Device or Accessory\"\n",
    "        confidence = 0.85\n",
    "    elif any(k in categories for k in [\"amazon echo\", \"voice assistants\", \"smart home\"]):\n",
    "        label = \"Echo / Alexa Smart Device\"\n",
    "        confidence = 0.90\n",
    "    elif any(\"echo\" in name or \"alexa\" in name for name in samples):\n",
    "        label = \"Echo / Alexa Smart Device\"\n",
    "        confidence = 0.85\n",
    "\n",
    "    return label, confidence\n",
    "\n",
    "\n"
   ]
  },
  {
   "cell_type": "markdown",
   "id": "fbde8036",
   "metadata": {},
   "source": [
    "### 7. Confidence Evaluation\n",
    "\n",
    "We compute a **confidence score** per cluster based on:\n",
    "- Dominance of a single brand or category\n",
    "- Concentration of terms\n",
    "\n",
    "> This helps identify **ambiguous or mixed clusters**."
   ]
  },
  {
   "cell_type": "code",
   "execution_count": 16,
   "id": "a5e345b0",
   "metadata": {},
   "outputs": [],
   "source": [
    "# Create a structured report\n",
    "report_rows = []\n",
    "for cid, summary_entry in cluster_summary.items():\n",
    "    label, score = label_with_confidence(summary_entry)\n",
    "    row = {\n",
    "        \"cluster_id\": cid,\n",
    "        \"auto_label\": label,\n",
    "        \"confidence_score\": score,\n",
    "        \"top_brand\": next(iter(summary_entry[\"top_brands\"]), \"\"),\n",
    "        \"primary_category\": next(iter(summary_entry[\"top_primaryCategories\"]), \"\"),\n",
    "        \"sample_name\": summary_entry[\"sample_names\"][0] if summary_entry[\"sample_names\"] else \"\",\n",
    "        \"human_override\": \"\"\n",
    "    }\n",
    "    report_rows.append(row)\n",
    "\n",
    "report_df = pd.DataFrame(report_rows)\n",
    "\n"
   ]
  },
  {
   "cell_type": "code",
   "execution_count": 17,
   "id": "826a74ed",
   "metadata": {},
   "outputs": [
    {
     "data": {
      "text/html": [
       "<div>\n",
       "<style scoped>\n",
       "    .dataframe tbody tr th:only-of-type {\n",
       "        vertical-align: middle;\n",
       "    }\n",
       "\n",
       "    .dataframe tbody tr th {\n",
       "        vertical-align: top;\n",
       "    }\n",
       "\n",
       "    .dataframe thead th {\n",
       "        text-align: right;\n",
       "    }\n",
       "</style>\n",
       "<table border=\"1\" class=\"dataframe\">\n",
       "  <thead>\n",
       "    <tr style=\"text-align: right;\">\n",
       "      <th></th>\n",
       "      <th>cluster_id</th>\n",
       "      <th>auto_label</th>\n",
       "      <th>confidence_score</th>\n",
       "      <th>top_brand</th>\n",
       "      <th>primary_category</th>\n",
       "      <th>sample_name</th>\n",
       "      <th>human_override</th>\n",
       "    </tr>\n",
       "  </thead>\n",
       "  <tbody>\n",
       "    <tr>\n",
       "      <th>0</th>\n",
       "      <td>0</td>\n",
       "      <td>Batteries</td>\n",
       "      <td>0.95</td>\n",
       "      <td>Amazonbasics</td>\n",
       "      <td>Health &amp; Beauty</td>\n",
       "      <td>AmazonBasics AAA Performance Alkaline Batterie...</td>\n",
       "      <td></td>\n",
       "    </tr>\n",
       "    <tr>\n",
       "      <th>1</th>\n",
       "      <td>1</td>\n",
       "      <td>Tablet</td>\n",
       "      <td>0.88</td>\n",
       "      <td>Amazon</td>\n",
       "      <td>Electronics</td>\n",
       "      <td>All-New Fire HD 8 Tablet, 8\" HD Display, Wi-Fi...</td>\n",
       "      <td></td>\n",
       "    </tr>\n",
       "    <tr>\n",
       "      <th>2</th>\n",
       "      <td>2</td>\n",
       "      <td>Tablet</td>\n",
       "      <td>0.88</td>\n",
       "      <td>Amazon</td>\n",
       "      <td>Electronics</td>\n",
       "      <td>Amazon Fire TV with 4K Ultra HD and Alexa Voic...</td>\n",
       "      <td></td>\n",
       "    </tr>\n",
       "    <tr>\n",
       "      <th>3</th>\n",
       "      <td>3</td>\n",
       "      <td>Echo / Alexa Smart Device</td>\n",
       "      <td>0.90</td>\n",
       "      <td>Amazon</td>\n",
       "      <td>Electronics,Hardware</td>\n",
       "      <td>Amazon Echo Show Alexa-enabled Bluetooth Speak...</td>\n",
       "      <td></td>\n",
       "    </tr>\n",
       "    <tr>\n",
       "      <th>4</th>\n",
       "      <td>4</td>\n",
       "      <td>Tablet</td>\n",
       "      <td>0.88</td>\n",
       "      <td>Amazon</td>\n",
       "      <td>Electronics</td>\n",
       "      <td>Fire Kids Edition Tablet, 7 Display, Wi-Fi, 16...</td>\n",
       "      <td></td>\n",
       "    </tr>\n",
       "    <tr>\n",
       "      <th>5</th>\n",
       "      <td>5</td>\n",
       "      <td>Batteries</td>\n",
       "      <td>0.95</td>\n",
       "      <td>Amazonbasics</td>\n",
       "      <td>Health &amp; Beauty</td>\n",
       "      <td>AmazonBasics AA Performance Alkaline Batteries...</td>\n",
       "      <td></td>\n",
       "    </tr>\n",
       "    <tr>\n",
       "      <th>6</th>\n",
       "      <td>6</td>\n",
       "      <td>Kindle Device or Accessory</td>\n",
       "      <td>0.85</td>\n",
       "      <td>Amazon</td>\n",
       "      <td>Electronics</td>\n",
       "      <td>Kindle E-reader - White, 6 Glare-Free Touchscr...</td>\n",
       "      <td></td>\n",
       "    </tr>\n",
       "    <tr>\n",
       "      <th>7</th>\n",
       "      <td>7</td>\n",
       "      <td>Tablet</td>\n",
       "      <td>0.88</td>\n",
       "      <td>Amazon</td>\n",
       "      <td>Toys &amp; Games,Electronics</td>\n",
       "      <td>Fire Kids Edition Tablet, 7 Display, Wi-Fi, 16...</td>\n",
       "      <td></td>\n",
       "    </tr>\n",
       "    <tr>\n",
       "      <th>8</th>\n",
       "      <td>8</td>\n",
       "      <td>Echo / Alexa Smart Device</td>\n",
       "      <td>0.90</td>\n",
       "      <td>Amazon</td>\n",
       "      <td>Electronics,Hardware</td>\n",
       "      <td>Amazon - Echo Plus w/ Built-In Hub - Silver</td>\n",
       "      <td></td>\n",
       "    </tr>\n",
       "    <tr>\n",
       "      <th>9</th>\n",
       "      <td>9</td>\n",
       "      <td>Kindle Device or Accessory</td>\n",
       "      <td>0.85</td>\n",
       "      <td>Amazon</td>\n",
       "      <td>Electronics</td>\n",
       "      <td>Amazon Kindle E-Reader 6\" Wifi (8th Generation...</td>\n",
       "      <td></td>\n",
       "    </tr>\n",
       "    <tr>\n",
       "      <th>10</th>\n",
       "      <td>10</td>\n",
       "      <td>Tablet</td>\n",
       "      <td>0.88</td>\n",
       "      <td>Amazon</td>\n",
       "      <td>Electronics</td>\n",
       "      <td>Fire Tablet, 7 Display, Wi-Fi, 16 GB - Include...</td>\n",
       "      <td></td>\n",
       "    </tr>\n",
       "  </tbody>\n",
       "</table>\n",
       "</div>"
      ],
      "text/plain": [
       "    cluster_id                  auto_label  confidence_score     top_brand  \\\n",
       "0            0                   Batteries              0.95  Amazonbasics   \n",
       "1            1                      Tablet              0.88        Amazon   \n",
       "2            2                      Tablet              0.88        Amazon   \n",
       "3            3   Echo / Alexa Smart Device              0.90        Amazon   \n",
       "4            4                      Tablet              0.88        Amazon   \n",
       "5            5                   Batteries              0.95  Amazonbasics   \n",
       "6            6  Kindle Device or Accessory              0.85        Amazon   \n",
       "7            7                      Tablet              0.88        Amazon   \n",
       "8            8   Echo / Alexa Smart Device              0.90        Amazon   \n",
       "9            9  Kindle Device or Accessory              0.85        Amazon   \n",
       "10          10                      Tablet              0.88        Amazon   \n",
       "\n",
       "            primary_category  \\\n",
       "0            Health & Beauty   \n",
       "1                Electronics   \n",
       "2                Electronics   \n",
       "3       Electronics,Hardware   \n",
       "4                Electronics   \n",
       "5            Health & Beauty   \n",
       "6                Electronics   \n",
       "7   Toys & Games,Electronics   \n",
       "8       Electronics,Hardware   \n",
       "9                Electronics   \n",
       "10               Electronics   \n",
       "\n",
       "                                          sample_name human_override  \n",
       "0   AmazonBasics AAA Performance Alkaline Batterie...                 \n",
       "1   All-New Fire HD 8 Tablet, 8\" HD Display, Wi-Fi...                 \n",
       "2   Amazon Fire TV with 4K Ultra HD and Alexa Voic...                 \n",
       "3   Amazon Echo Show Alexa-enabled Bluetooth Speak...                 \n",
       "4   Fire Kids Edition Tablet, 7 Display, Wi-Fi, 16...                 \n",
       "5   AmazonBasics AA Performance Alkaline Batteries...                 \n",
       "6   Kindle E-reader - White, 6 Glare-Free Touchscr...                 \n",
       "7   Fire Kids Edition Tablet, 7 Display, Wi-Fi, 16...                 \n",
       "8         Amazon - Echo Plus w/ Built-In Hub - Silver                 \n",
       "9   Amazon Kindle E-Reader 6\" Wifi (8th Generation...                 \n",
       "10  Fire Tablet, 7 Display, Wi-Fi, 16 GB - Include...                 "
      ]
     },
     "execution_count": 17,
     "metadata": {},
     "output_type": "execute_result"
    }
   ],
   "source": [
    "report_df"
   ]
  },
  {
   "cell_type": "code",
   "execution_count": 18,
   "id": "bb7197b4",
   "metadata": {},
   "outputs": [
    {
     "data": {
      "text/plain": [
       "4"
      ]
     },
     "execution_count": 18,
     "metadata": {},
     "output_type": "execute_result"
    }
   ],
   "source": [
    "len(report_df['primary_category'].unique())"
   ]
  },
  {
   "cell_type": "code",
   "execution_count": 19,
   "id": "cd8f8891",
   "metadata": {},
   "outputs": [
    {
     "data": {
      "image/png": "[encoded data removed]",
      "text/plain": [
       "<Figure size 1000x600 with 1 Axes>"
      ]
     },
     "metadata": {},
     "output_type": "display_data"
    }
   ],
   "source": [
    "# Set seaborn style\n",
    "sns.set(style=\"whitegrid\")\n",
    "\n",
    "# Plot confidence scores by cluster\n",
    "plt.figure(figsize=(10, 6))\n",
    "sns.barplot(\n",
    "    data=report_df.sort_values(\"confidence_score\", ascending=False),\n",
    "    x=\"confidence_score\",\n",
    "    y=\"auto_label\",\n",
    "    hue=\"auto_label\",\n",
    "    palette=\"coolwarm\"\n",
    ")\n",
    "plt.xlabel(\"Confidence Score\")\n",
    "plt.ylabel(\"Auto Label\")\n",
    "plt.title(\"Confidence Score per Cluster Label\")\n",
    "plt.xlim(0, 1)\n",
    "plt.legend([],[], frameon=False)  # Disable legend manually\n",
    "plt.tight_layout()\n",
    "plt.show()"
   ]
  },
  {
   "cell_type": "markdown",
   "id": "d6c0f5fe",
   "metadata": {},
   "source": [
    "### 8. Interactive Visualization\n",
    "\n",
    "We generate an **interactive bar chart** with:\n",
    "- Confidence scores\n",
    "- Cluster labels\n",
    "- Hoverable metadata (top brand, category, example product)\n",
    "\n",
    "🎛 A slider allows adjusting the confidence threshold dynamically."
   ]
  },
  {
   "cell_type": "code",
   "execution_count": 20,
   "id": "eb8c9554",
   "metadata": {},
   "outputs": [
    {
     "data": {
      "text/html": [
       "<div>\n",
       "<style scoped>\n",
       "    .dataframe tbody tr th:only-of-type {\n",
       "        vertical-align: middle;\n",
       "    }\n",
       "\n",
       "    .dataframe tbody tr th {\n",
       "        vertical-align: top;\n",
       "    }\n",
       "\n",
       "    .dataframe thead th {\n",
       "        text-align: right;\n",
       "    }\n",
       "</style>\n",
       "<table border=\"1\" class=\"dataframe\">\n",
       "  <thead>\n",
       "    <tr style=\"text-align: right;\">\n",
       "      <th></th>\n",
       "      <th>cluster_id</th>\n",
       "      <th>auto_label</th>\n",
       "      <th>confidence_score</th>\n",
       "      <th>top_brand</th>\n",
       "      <th>primary_category</th>\n",
       "      <th>sample_name</th>\n",
       "      <th>human_override</th>\n",
       "    </tr>\n",
       "  </thead>\n",
       "  <tbody>\n",
       "    <tr>\n",
       "      <th>1</th>\n",
       "      <td>1</td>\n",
       "      <td>Tablet</td>\n",
       "      <td>0.88</td>\n",
       "      <td>Amazon</td>\n",
       "      <td>Electronics</td>\n",
       "      <td>All-New Fire HD 8 Tablet, 8\" HD Display, Wi-Fi...</td>\n",
       "      <td></td>\n",
       "    </tr>\n",
       "    <tr>\n",
       "      <th>2</th>\n",
       "      <td>2</td>\n",
       "      <td>Tablet</td>\n",
       "      <td>0.88</td>\n",
       "      <td>Amazon</td>\n",
       "      <td>Electronics</td>\n",
       "      <td>Amazon Fire TV with 4K Ultra HD and Alexa Voic...</td>\n",
       "      <td></td>\n",
       "    </tr>\n",
       "    <tr>\n",
       "      <th>4</th>\n",
       "      <td>4</td>\n",
       "      <td>Tablet</td>\n",
       "      <td>0.88</td>\n",
       "      <td>Amazon</td>\n",
       "      <td>Electronics</td>\n",
       "      <td>Fire Kids Edition Tablet, 7 Display, Wi-Fi, 16...</td>\n",
       "      <td></td>\n",
       "    </tr>\n",
       "    <tr>\n",
       "      <th>6</th>\n",
       "      <td>6</td>\n",
       "      <td>Kindle Device or Accessory</td>\n",
       "      <td>0.85</td>\n",
       "      <td>Amazon</td>\n",
       "      <td>Electronics</td>\n",
       "      <td>Kindle E-reader - White, 6 Glare-Free Touchscr...</td>\n",
       "      <td></td>\n",
       "    </tr>\n",
       "    <tr>\n",
       "      <th>7</th>\n",
       "      <td>7</td>\n",
       "      <td>Tablet</td>\n",
       "      <td>0.88</td>\n",
       "      <td>Amazon</td>\n",
       "      <td>Toys &amp; Games,Electronics</td>\n",
       "      <td>Fire Kids Edition Tablet, 7 Display, Wi-Fi, 16...</td>\n",
       "      <td></td>\n",
       "    </tr>\n",
       "    <tr>\n",
       "      <th>9</th>\n",
       "      <td>9</td>\n",
       "      <td>Kindle Device or Accessory</td>\n",
       "      <td>0.85</td>\n",
       "      <td>Amazon</td>\n",
       "      <td>Electronics</td>\n",
       "      <td>Amazon Kindle E-Reader 6\" Wifi (8th Generation...</td>\n",
       "      <td></td>\n",
       "    </tr>\n",
       "    <tr>\n",
       "      <th>10</th>\n",
       "      <td>10</td>\n",
       "      <td>Tablet</td>\n",
       "      <td>0.88</td>\n",
       "      <td>Amazon</td>\n",
       "      <td>Electronics</td>\n",
       "      <td>Fire Tablet, 7 Display, Wi-Fi, 16 GB - Include...</td>\n",
       "      <td></td>\n",
       "    </tr>\n",
       "  </tbody>\n",
       "</table>\n",
       "</div>"
      ],
      "text/plain": [
       "    cluster_id                  auto_label  confidence_score top_brand  \\\n",
       "1            1                      Tablet              0.88    Amazon   \n",
       "2            2                      Tablet              0.88    Amazon   \n",
       "4            4                      Tablet              0.88    Amazon   \n",
       "6            6  Kindle Device or Accessory              0.85    Amazon   \n",
       "7            7                      Tablet              0.88    Amazon   \n",
       "9            9  Kindle Device or Accessory              0.85    Amazon   \n",
       "10          10                      Tablet              0.88    Amazon   \n",
       "\n",
       "            primary_category  \\\n",
       "1                Electronics   \n",
       "2                Electronics   \n",
       "4                Electronics   \n",
       "6                Electronics   \n",
       "7   Toys & Games,Electronics   \n",
       "9                Electronics   \n",
       "10               Electronics   \n",
       "\n",
       "                                          sample_name human_override  \n",
       "1   All-New Fire HD 8 Tablet, 8\" HD Display, Wi-Fi...                 \n",
       "2   Amazon Fire TV with 4K Ultra HD and Alexa Voic...                 \n",
       "4   Fire Kids Edition Tablet, 7 Display, Wi-Fi, 16...                 \n",
       "6   Kindle E-reader - White, 6 Glare-Free Touchscr...                 \n",
       "7   Fire Kids Edition Tablet, 7 Display, Wi-Fi, 16...                 \n",
       "9   Amazon Kindle E-Reader 6\" Wifi (8th Generation...                 \n",
       "10  Fire Tablet, 7 Display, Wi-Fi, 16 GB - Include...                 "
      ]
     },
     "execution_count": 20,
     "metadata": {},
     "output_type": "execute_result"
    }
   ],
   "source": [
    "report_df[report_df[\"confidence_score\"] < 0.9]\n"
   ]
  },
  {
   "cell_type": "code",
   "execution_count": 21,
   "id": "b3e82cbe",
   "metadata": {},
   "outputs": [
    {
     "data": {
      "application/vnd.plotly.v1+json": {
       "config": {
        "plotlyServerURL": "https://plot.ly"
       },
       "data": [
        {
         "customdata": [
          [
           6,
           "Amazon",
           "Electronics",
           "Kindle E-reader - White, 6 Glare-Free Touchscreen Display, Wi-Fi - Includes Special Offers"
          ],
          [
           9,
           "Amazon",
           "Electronics",
           "Amazon Kindle E-Reader 6\" Wifi (8th Generation, 2016)"
          ],
          [
           1,
           "Amazon",
           "Electronics",
           "All-New Fire HD 8 Tablet, 8\" HD Display, Wi-Fi, 32 GB - Includes Special Offers, Black"
          ],
          [
           2,
           "Amazon",
           "Electronics",
           "Amazon Fire TV with 4K Ultra HD and Alexa Voice Remote (Pendant Design) | Streaming Media Player"
          ],
          [
           4,
           "Amazon",
           "Electronics",
           "Fire Kids Edition Tablet, 7 Display, Wi-Fi, 16 GB, Blue Kid-Proof Case"
          ],
          [
           7,
           "Amazon",
           "Toys & Games,Electronics",
           "Fire Kids Edition Tablet, 7 Display, Wi-Fi, 16 GB, Green Kid-Proof Case"
          ],
          [
           10,
           "Amazon",
           "Electronics",
           "Fire Tablet, 7 Display, Wi-Fi, 16 GB - Includes Special Offers, Black"
          ],
          [
           3,
           "Amazon",
           "Electronics,Hardware",
           "Amazon Echo Show Alexa-enabled Bluetooth Speaker with 7\" Screen"
          ],
          [
           8,
           "Amazon",
           "Electronics,Hardware",
           "Amazon - Echo Plus w/ Built-In Hub - Silver"
          ],
          [
           0,
           "Amazonbasics",
           "Health & Beauty",
           "AmazonBasics AAA Performance Alkaline Batteries (36 Count)"
          ],
          [
           5,
           "Amazonbasics",
           "Health & Beauty",
           "AmazonBasics AA Performance Alkaline Batteries (48 Count) - Packaging May Vary"
          ]
         ],
         "hovertemplate": "<b>Cluster ID:</b> %{customdata[0]}<br><b>Label:</b> %{y}<br><b>Confidence:</b> %{x:.2f}<br><b>Brand:</b> %{customdata[1]}<br><b>Category:</b> %{customdata[2]}<br><b>Example:</b> %{customdata[3]}<extra></extra>",
         "marker": {
          "color": [
           0.85,
           0.85,
           0.88,
           0.88,
           0.88,
           0.88,
           0.88,
           0.9,
           0.9,
           0.95,
           0.95
          ],
          "colorbar": {
           "title": {
            "text": "Confidence"
           }
          },
          "colorscale": [
           [
            0,
            "rgb(247,251,255)"
           ],
           [
            0.125,
            "rgb(222,235,247)"
           ],
           [
            0.25,
            "rgb(198,219,239)"
           ],
           [
            0.375,
            "rgb(158,202,225)"
           ],
           [
            0.5,
            "rgb(107,174,214)"
           ],
           [
            0.625,
            "rgb(66,146,198)"
           ],
           [
            0.75,
            "rgb(33,113,181)"
           ],
           [
            0.875,
            "rgb(8,81,156)"
           ],
           [
            1,
            "rgb(8,48,107)"
           ]
          ]
         },
         "orientation": "h",
         "text": [
          0.85,
          0.85,
          0.88,
          0.88,
          0.88,
          0.88,
          0.88,
          0.9,
          0.9,
          0.95,
          0.95
         ],
         "textposition": "auto",
         "type": "bar",
         "x": [
          0.85,
          0.85,
          0.88,
          0.88,
          0.88,
          0.88,
          0.88,
          0.9,
          0.9,
          0.95,
          0.95
         ],
         "y": [
          "Kindle Device or Accessory",
          "Kindle Device or Accessory",
          "Tablet",
          "Tablet",
          "Tablet",
          "Tablet",
          "Tablet",
          "Echo / Alexa Smart Device",
          "Echo / Alexa Smart Device",
          "Batteries",
          "Batteries"
         ]
        }
       ],
       "layout": {
        "height": 600,
        "template": {
         "data": {
          "bar": [
           {
            "error_x": {
             "color": "#2a3f5f"
            },
            "error_y": {
             "color": "#2a3f5f"
            },
            "marker": {
             "line": {
              "color": "#E5ECF6",
              "width": 0.5
             },
             "pattern": {
              "fillmode": "overlay",
              "size": 10,
              "solidity": 0.2
             }
            },
            "type": "bar"
           }
          ],
          "barpolar": [
           {
            "marker": {
             "line": {
              "color": "#E5ECF6",
              "width": 0.5
             },
             "pattern": {
              "fillmode": "overlay",
              "size": 10,
              "solidity": 0.2
             }
            },
            "type": "barpolar"
           }
          ],
          "carpet": [
           {
            "aaxis": {
             "endlinecolor": "#2a3f5f",
             "gridcolor": "white",
             "linecolor": "white",
             "minorgridcolor": "white",
             "startlinecolor": "#2a3f5f"
            },
            "baxis": {
             "endlinecolor": "#2a3f5f",
             "gridcolor": "white",
             "linecolor": "white",
             "minorgridcolor": "white",
             "startlinecolor": "#2a3f5f"
            },
            "type": "carpet"
           }
          ],
          "choropleth": [
           {
            "colorbar": {
             "outlinewidth": 0,
             "ticks": ""
            },
            "type": "choropleth"
           }
          ],
          "contour": [
           {
            "colorbar": {
             "outlinewidth": 0,
             "ticks": ""
            },
            "colorscale": [
             [
              0,
              "#0d0887"
             ],
             [
              0.1111111111111111,
              "#46039f"
             ],
             [
              0.2222222222222222,
              "#7201a8"
             ],
             [
              0.3333333333333333,
              "#9c179e"
             ],
             [
              0.4444444444444444,
              "#bd3786"
             ],
             [
              0.5555555555555556,
              "#d8576b"
             ],
             [
              0.6666666666666666,
              "#ed7953"
             ],
             [
              0.7777777777777778,
              "#fb9f3a"
             ],
             [
              0.8888888888888888,
              "#fdca26"
             ],
             [
              1,
              "#f0f921"
             ]
            ],
            "type": "contour"
           }
          ],
          "contourcarpet": [
           {
            "colorbar": {
             "outlinewidth": 0,
             "ticks": ""
            },
            "type": "contourcarpet"
           }
          ],
          "heatmap": [
           {
            "colorbar": {
             "outlinewidth": 0,
             "ticks": ""
            },
            "colorscale": [
             [
              0,
              "#0d0887"
             ],
             [
              0.1111111111111111,
              "#46039f"
             ],
             [
              0.2222222222222222,
              "#7201a8"
             ],
             [
              0.3333333333333333,
              "#9c179e"
             ],
             [
              0.4444444444444444,
              "#bd3786"
             ],
             [
              0.5555555555555556,
              "#d8576b"
             ],
             [
              0.6666666666666666,
              "#ed7953"
             ],
             [
              0.7777777777777778,
              "#fb9f3a"
             ],
             [
              0.8888888888888888,
              "#fdca26"
             ],
             [
              1,
              "#f0f921"
             ]
            ],
            "type": "heatmap"
           }
          ],
          "heatmapgl": [
           {
            "colorbar": {
             "outlinewidth": 0,
             "ticks": ""
            },
            "colorscale": [
             [
              0,
              "#0d0887"
             ],
             [
              0.1111111111111111,
              "#46039f"
             ],
             [
              0.2222222222222222,
              "#7201a8"
             ],
             [
              0.3333333333333333,
              "#9c179e"
             ],
             [
              0.4444444444444444,
              "#bd3786"
             ],
             [
              0.5555555555555556,
              "#d8576b"
             ],
             [
              0.6666666666666666,
              "#ed7953"
             ],
             [
              0.7777777777777778,
              "#fb9f3a"
             ],
             [
              0.8888888888888888,
              "#fdca26"
             ],
             [
              1,
              "#f0f921"
             ]
            ],
            "type": "heatmapgl"
           }
          ],
          "histogram": [
           {
            "marker": {
             "pattern": {
              "fillmode": "overlay",
              "size": 10,
              "solidity": 0.2
             }
            },
            "type": "histogram"
           }
          ],
          "histogram2d": [
           {
            "colorbar": {
             "outlinewidth": 0,
             "ticks": ""
            },
            "colorscale": [
             [
              0,
              "#0d0887"
             ],
             [
              0.1111111111111111,
              "#46039f"
             ],
             [
              0.2222222222222222,
              "#7201a8"
             ],
             [
              0.3333333333333333,
              "#9c179e"
             ],
             [
              0.4444444444444444,
              "#bd3786"
             ],
             [
              0.5555555555555556,
              "#d8576b"
             ],
             [
              0.6666666666666666,
              "#ed7953"
             ],
             [
              0.7777777777777778,
              "#fb9f3a"
             ],
             [
              0.8888888888888888,
              "#fdca26"
             ],
             [
              1,
              "#f0f921"
             ]
            ],
            "type": "histogram2d"
           }
          ],
          "histogram2dcontour": [
           {
            "colorbar": {
             "outlinewidth": 0,
             "ticks": ""
            },
            "colorscale": [
             [
              0,
              "#0d0887"
             ],
             [
              0.1111111111111111,
              "#46039f"
             ],
             [
              0.2222222222222222,
              "#7201a8"
             ],
             [
              0.3333333333333333,
              "#9c179e"
             ],
             [
              0.4444444444444444,
              "#bd3786"
             ],
             [
              0.5555555555555556,
              "#d8576b"
             ],
             [
              0.6666666666666666,
              "#ed7953"
             ],
             [
              0.7777777777777778,
              "#fb9f3a"
             ],
             [
              0.8888888888888888,
              "#fdca26"
             ],
             [
              1,
              "#f0f921"
             ]
            ],
            "type": "histogram2dcontour"
           }
          ],
          "mesh3d": [
           {
            "colorbar": {
             "outlinewidth": 0,
             "ticks": ""
            },
            "type": "mesh3d"
           }
          ],
          "parcoords": [
           {
            "line": {
             "colorbar": {
              "outlinewidth": 0,
              "ticks": ""
             }
            },
            "type": "parcoords"
           }
          ],
          "pie": [
           {
            "automargin": true,
            "type": "pie"
           }
          ],
          "scatter": [
           {
            "fillpattern": {
             "fillmode": "overlay",
             "size": 10,
             "solidity": 0.2
            },
            "type": "scatter"
           }
          ],
          "scatter3d": [
           {
            "line": {
             "colorbar": {
              "outlinewidth": 0,
              "ticks": ""
             }
            },
            "marker": {
             "colorbar": {
              "outlinewidth": 0,
              "ticks": ""
             }
            },
            "type": "scatter3d"
           }
          ],
          "scattercarpet": [
           {
            "marker": {
             "colorbar": {
              "outlinewidth": 0,
              "ticks": ""
             }
            },
            "type": "scattercarpet"
           }
          ],
          "scattergeo": [
           {
            "marker": {
             "colorbar": {
              "outlinewidth": 0,
              "ticks": ""
             }
            },
            "type": "scattergeo"
           }
          ],
          "scattergl": [
           {
            "marker": {
             "colorbar": {
              "outlinewidth": 0,
              "ticks": ""
             }
            },
            "type": "scattergl"
           }
          ],
          "scattermapbox": [
           {
            "marker": {
             "colorbar": {
              "outlinewidth": 0,
              "ticks": ""
             }
            },
            "type": "scattermapbox"
           }
          ],
          "scatterpolar": [
           {
            "marker": {
             "colorbar": {
              "outlinewidth": 0,
              "ticks": ""
             }
            },
            "type": "scatterpolar"
           }
          ],
          "scatterpolargl": [
           {
            "marker": {
             "colorbar": {
              "outlinewidth": 0,
              "ticks": ""
             }
            },
            "type": "scatterpolargl"
           }
          ],
          "scatterternary": [
           {
            "marker": {
             "colorbar": {
              "outlinewidth": 0,
              "ticks": ""
             }
            },
            "type": "scatterternary"
           }
          ],
          "surface": [
           {
            "colorbar": {
             "outlinewidth": 0,
             "ticks": ""
            },
            "colorscale": [
             [
              0,
              "#0d0887"
             ],
             [
              0.1111111111111111,
              "#46039f"
             ],
             [
              0.2222222222222222,
              "#7201a8"
             ],
             [
              0.3333333333333333,
              "#9c179e"
             ],
             [
              0.4444444444444444,
              "#bd3786"
             ],
             [
              0.5555555555555556,
              "#d8576b"
             ],
             [
              0.6666666666666666,
              "#ed7953"
             ],
             [
              0.7777777777777778,
              "#fb9f3a"
             ],
             [
              0.8888888888888888,
              "#fdca26"
             ],
             [
              1,
              "#f0f921"
             ]
            ],
            "type": "surface"
           }
          ],
          "table": [
           {
            "cells": {
             "fill": {
              "color": "#EBF0F8"
             },
             "line": {
              "color": "white"
             }
            },
            "header": {
             "fill": {
              "color": "#C8D4E3"
             },
             "line": {
              "color": "white"
             }
            },
            "type": "table"
           }
          ]
         },
         "layout": {
          "annotationdefaults": {
           "arrowcolor": "#2a3f5f",
           "arrowhead": 0,
           "arrowwidth": 1
          },
          "autotypenumbers": "strict",
          "coloraxis": {
           "colorbar": {
            "outlinewidth": 0,
            "ticks": ""
           }
          },
          "colorscale": {
           "diverging": [
            [
             0,
             "#8e0152"
            ],
            [
             0.1,
             "#c51b7d"
            ],
            [
             0.2,
             "#de77ae"
            ],
            [
             0.3,
             "#f1b6da"
            ],
            [
             0.4,
             "#fde0ef"
            ],
            [
             0.5,
             "#f7f7f7"
            ],
            [
             0.6,
             "#e6f5d0"
            ],
            [
             0.7,
             "#b8e186"
            ],
            [
             0.8,
             "#7fbc41"
            ],
            [
             0.9,
             "#4d9221"
            ],
            [
             1,
             "#276419"
            ]
           ],
           "sequential": [
            [
             0,
             "#0d0887"
            ],
            [
             0.1111111111111111,
             "#46039f"
            ],
            [
             0.2222222222222222,
             "#7201a8"
            ],
            [
             0.3333333333333333,
             "#9c179e"
            ],
            [
             0.4444444444444444,
             "#bd3786"
            ],
            [
             0.5555555555555556,
             "#d8576b"
            ],
            [
             0.6666666666666666,
             "#ed7953"
            ],
            [
             0.7777777777777778,
             "#fb9f3a"
            ],
            [
             0.8888888888888888,
             "#fdca26"
            ],
            [
             1,
             "#f0f921"
            ]
           ],
           "sequentialminus": [
            [
             0,
             "#0d0887"
            ],
            [
             0.1111111111111111,
             "#46039f"
            ],
            [
             0.2222222222222222,
             "#7201a8"
            ],
            [
             0.3333333333333333,
             "#9c179e"
            ],
            [
             0.4444444444444444,
             "#bd3786"
            ],
            [
             0.5555555555555556,
             "#d8576b"
            ],
            [
             0.6666666666666666,
             "#ed7953"
            ],
            [
             0.7777777777777778,
             "#fb9f3a"
            ],
            [
             0.8888888888888888,
             "#fdca26"
            ],
            [
             1,
             "#f0f921"
            ]
           ]
          },
          "colorway": [
           "#636efa",
           "#EF553B",
           "#00cc96",
           "#ab63fa",
           "#FFA15A",
           "#19d3f3",
           "#FF6692",
           "#B6E880",
           "#FF97FF",
           "#FECB52"
          ],
          "font": {
           "color": "#2a3f5f"
          },
          "geo": {
           "bgcolor": "white",
           "lakecolor": "white",
           "landcolor": "#E5ECF6",
           "showlakes": true,
           "showland": true,
           "subunitcolor": "white"
          },
          "hoverlabel": {
           "align": "left"
          },
          "hovermode": "closest",
          "mapbox": {
           "style": "light"
          },
          "paper_bgcolor": "white",
          "plot_bgcolor": "#E5ECF6",
          "polar": {
           "angularaxis": {
            "gridcolor": "white",
            "linecolor": "white",
            "ticks": ""
           },
           "bgcolor": "#E5ECF6",
           "radialaxis": {
            "gridcolor": "white",
            "linecolor": "white",
            "ticks": ""
           }
          },
          "scene": {
           "xaxis": {
            "backgroundcolor": "#E5ECF6",
            "gridcolor": "white",
            "gridwidth": 2,
            "linecolor": "white",
            "showbackground": true,
            "ticks": "",
            "zerolinecolor": "white"
           },
           "yaxis": {
            "backgroundcolor": "#E5ECF6",
            "gridcolor": "white",
            "gridwidth": 2,
            "linecolor": "white",
            "showbackground": true,
            "ticks": "",
            "zerolinecolor": "white"
           },
           "zaxis": {
            "backgroundcolor": "#E5ECF6",
            "gridcolor": "white",
            "gridwidth": 2,
            "linecolor": "white",
            "showbackground": true,
            "ticks": "",
            "zerolinecolor": "white"
           }
          },
          "shapedefaults": {
           "line": {
            "color": "#2a3f5f"
           }
          },
          "ternary": {
           "aaxis": {
            "gridcolor": "white",
            "linecolor": "white",
            "ticks": ""
           },
           "baxis": {
            "gridcolor": "white",
            "linecolor": "white",
            "ticks": ""
           },
           "bgcolor": "#E5ECF6",
           "caxis": {
            "gridcolor": "white",
            "linecolor": "white",
            "ticks": ""
           }
          },
          "title": {
           "x": 0.05
          },
          "xaxis": {
           "automargin": true,
           "gridcolor": "white",
           "linecolor": "white",
           "ticks": "",
           "title": {
            "standoff": 15
           },
           "zerolinecolor": "white",
           "zerolinewidth": 2
          },
          "yaxis": {
           "automargin": true,
           "gridcolor": "white",
           "linecolor": "white",
           "ticks": "",
           "title": {
            "standoff": 15
           },
           "zerolinecolor": "white",
           "zerolinewidth": 2
          }
         }
        },
        "title": {
         "text": "📊 Cluster Labels with Interactive Confidence Slider + Reset"
        },
        "updatemenus": [
         {
          "buttons": [
           {
            "args": [
             {
              "xaxis.range": [
               0,
               1
              ]
             }
            ],
            "label": "Reset Zoom",
            "method": "relayout"
           }
          ],
          "showactive": false,
          "type": "buttons"
         }
        ],
        "xaxis": {
         "dtick": 0.05,
         "range": [
          0,
          1
         ],
         "rangeslider": {
          "visible": true
         },
         "tickmode": "linear",
         "title": {
          "text": "Confidence Score"
         }
        },
        "yaxis": {
         "title": {
          "text": "Auto Label"
         }
        }
       }
      }
     },
     "metadata": {},
     "output_type": "display_data"
    }
   ],
   "source": [
    "# Sort the data\n",
    "sorted_df = report_df.sort_values(\"confidence_score\", ascending=True)\n",
    "\n",
    "# Create the figure\n",
    "fig = go.Figure()\n",
    "\n",
    "# Add horizontal bars with hover details\n",
    "fig.add_trace(go.Bar(\n",
    "    x=sorted_df[\"confidence_score\"],\n",
    "    y=sorted_df[\"auto_label\"],\n",
    "    orientation=\"h\",\n",
    "    text=sorted_df[\"confidence_score\"],\n",
    "    textposition='auto',\n",
    "    marker=dict(\n",
    "        color=sorted_df[\"confidence_score\"],\n",
    "        colorscale=\"Blues\",\n",
    "        colorbar=dict(title=\"Confidence\"),\n",
    "    ),\n",
    "    hovertemplate=\"<b>Cluster ID:</b> %{customdata[0]}<br>\"\n",
    "                  \"<b>Label:</b> %{y}<br>\"\n",
    "                  \"<b>Confidence:</b> %{x:.2f}<br>\"\n",
    "                  \"<b>Brand:</b> %{customdata[1]}<br>\"\n",
    "                  \"<b>Category:</b> %{customdata[2]}<br>\"\n",
    "                  \"<b>Example:</b> %{customdata[3]}<extra></extra>\",\n",
    "    customdata=sorted_df[[\"cluster_id\", \"top_brand\", \"primary_category\", \"sample_name\"]].values\n",
    "))\n",
    "\n",
    "# Add layout with range slider and reset button\n",
    "fig.update_layout(\n",
    "    title=\"📊 Cluster Labels with Interactive Confidence Slider + Reset\",\n",
    "    xaxis=dict(\n",
    "        title=\"Confidence Score\",\n",
    "        range=[0, 1],\n",
    "        rangeslider=dict(visible=True),\n",
    "        tickmode='linear',\n",
    "        dtick=0.05\n",
    "    ),\n",
    "    yaxis=dict(title=\"Auto Label\"),\n",
    "    height=600,\n",
    "    updatemenus=[\n",
    "        dict(\n",
    "            type=\"buttons\",\n",
    "            showactive=False,\n",
    "            buttons=[dict(label=\"Reset Zoom\", method=\"relayout\", args=[{\"xaxis.range\": [0, 1]}])]\n",
    "        )\n",
    "    ]\n",
    ")\n",
    "\n",
    "fig.show()\n",
    "\n"
   ]
  },
  {
   "cell_type": "markdown",
   "id": "08e001a6",
   "metadata": {},
   "source": [
    "### 9. Save Artifacts\n",
    "\n",
    "We export:\n",
    "- `model_metadata.json`: All clustering parameters, labels, summaries\n",
    "- `plot.html`: Saved interactive chart\n",
    "- `model.joblib`: Serialized trained model\n",
    "\n",
    "These can be reused for reporting or production use."
   ]
  },
  {
   "cell_type": "markdown",
   "id": "367db127",
   "metadata": {},
   "source": [
    "#### All clustering parameters, labels, summaries"
   ]
  },
  {
   "cell_type": "code",
   "execution_count": 22,
   "id": "847d14d3",
   "metadata": {},
   "outputs": [
    {
     "data": {
      "text/plain": [
       "{'model_name': 'UMAP + KMeans Product Clustering',\n",
       " 'version': 'v1.0',\n",
       " 'created_at': '2025-06-12T10:55:11.958621',\n",
       " 'umap_params': {'n_neighbors': 15, 'n_components': 2, 'metric': 'cosine'},\n",
       " 'kmeans_params': {'n_clusters': 11, 'random_state': 42},\n",
       " 'labeling_method': 'Automated Labeling via Category + Brand Heuristics',\n",
       " 'cluster_labels': {'0': 'AAA Batteries',\n",
       "  '1': 'Fire Tablet',\n",
       "  '2': 'Fire Tablet',\n",
       "  '3': 'Echo / Alexa Smart Device',\n",
       "  '4': 'Fire Tablet',\n",
       "  '5': 'AA Batteries',\n",
       "  '6': 'Kindle Device or Accessory',\n",
       "  '7': 'Fire Tablet',\n",
       "  '8': 'Echo / Alexa Smart Device',\n",
       "  '9': 'Kindle Device or Accessory',\n",
       "  '10': 'Fire Tablet'},\n",
       " 'confidence_scores': {'0': 0.95,\n",
       "  '1': 0.88,\n",
       "  '2': 0.88,\n",
       "  '3': 0.9,\n",
       "  '4': 0.88,\n",
       "  '5': 0.95,\n",
       "  '6': 0.85,\n",
       "  '7': 0.88,\n",
       "  '8': 0.9,\n",
       "  '9': 0.85,\n",
       "  '10': 0.88},\n",
       " 'top_terms': {'0': [('amazonbasics', 7748),\n",
       "   ('aaa', 7748),\n",
       "   ('performance', 7748),\n",
       "   ('alkaline', 7748),\n",
       "   ('batteries', 7748),\n",
       "   ('count', 7748)],\n",
       "  '1': [('hd', 3448),\n",
       "   ('allnew', 1724),\n",
       "   ('fire', 1724),\n",
       "   ('tablet', 1724),\n",
       "   ('display', 1724),\n",
       "   ('wifi', 1724),\n",
       "   ('gb', 1724),\n",
       "   ('includes', 1724),\n",
       "   ('special', 1724),\n",
       "   ('offers', 1724)],\n",
       "  '2': [('with', 2707),\n",
       "   ('hd', 2702),\n",
       "   ('fire', 1367),\n",
       "   ('alexa', 1358),\n",
       "   ('tablet', 1349),\n",
       "   ('display', 1349),\n",
       "   ('gb', 1349),\n",
       "   ('special', 1349),\n",
       "   ('offers', 1349),\n",
       "   ('allnew', 992)],\n",
       "  '3': [('amazon', 1365),\n",
       "   ('alexaenabled', 1365),\n",
       "   ('bluetooth', 984),\n",
       "   ('speaker', 983),\n",
       "   ('echo', 753),\n",
       "   ('show', 753),\n",
       "   ('with', 753),\n",
       "   ('screen', 753),\n",
       "   ('tap', 612),\n",
       "   ('black', 393)],\n",
       "  '4': [('fire', 860),\n",
       "   ('tablet', 860),\n",
       "   ('display', 860),\n",
       "   ('gb', 860),\n",
       "   ('kids', 777),\n",
       "   ('edition', 777),\n",
       "   ('kidproof', 777),\n",
       "   ('case', 777),\n",
       "   ('blue', 669),\n",
       "   ('wifi', 586)],\n",
       "  '5': [('amazonbasics', 1494),\n",
       "   ('aa', 1494),\n",
       "   ('performance', 1494),\n",
       "   ('alkaline', 1494),\n",
       "   ('batteries', 1494),\n",
       "   ('count', 1494),\n",
       "   ('packaging', 1494),\n",
       "   ('may', 1494),\n",
       "   ('vary', 1494),\n",
       "   ('kindle', 424)],\n",
       "  '6': [('hd', 1658),\n",
       "   ('display', 1108),\n",
       "   ('wifi', 1108),\n",
       "   ('includes', 1108),\n",
       "   ('special', 1108),\n",
       "   ('offers', 1108),\n",
       "   ('allnew', 839),\n",
       "   ('fire', 829),\n",
       "   ('tablet', 829),\n",
       "   ('gb', 829)],\n",
       "  '7': [('fire', 1196),\n",
       "   ('kids', 1196),\n",
       "   ('edition', 1196),\n",
       "   ('tablet', 1196),\n",
       "   ('display', 1196),\n",
       "   ('wifi', 1196),\n",
       "   ('gb', 1196),\n",
       "   ('kidproof', 1196),\n",
       "   ('case', 1196),\n",
       "   ('pink', 1009)],\n",
       "  '8': [('amazon', 739),\n",
       "   ('echo', 614),\n",
       "   ('plus', 590),\n",
       "   ('w', 590),\n",
       "   ('builtin', 590),\n",
       "   ('hub', 590),\n",
       "   ('silver', 590),\n",
       "   ('hd', 260),\n",
       "   ('with', 244),\n",
       "   ('fire', 186)],\n",
       "  '9': [('gb', 900),\n",
       "   ('wifi', 700),\n",
       "   ('kindle', 644),\n",
       "   ('display', 583),\n",
       "   ('amazon', 535),\n",
       "   ('fire', 532),\n",
       "   ('tablet', 489),\n",
       "   ('hd', 426),\n",
       "   ('blue', 394),\n",
       "   ('includes', 303)],\n",
       "  '10': [('fire', 1016),\n",
       "   ('tablet', 1016),\n",
       "   ('display', 1016),\n",
       "   ('gb', 1016),\n",
       "   ('wifi', 783),\n",
       "   ('includes', 783),\n",
       "   ('special', 783),\n",
       "   ('offers', 783),\n",
       "   ('black', 719),\n",
       "   ('hd', 594)]},\n",
       " 'example_names': {'0': {'top_brands': {'Amazonbasics': 7748},\n",
       "   'top_primaryCategories': {'Health & Beauty': 7748},\n",
       "   'top_categories': {'Health': 15496,\n",
       "    'AA': 7748,\n",
       "    'Robot Check': 7748,\n",
       "    ' Household & Baby Care': 7748,\n",
       "    'Batteries & Chargers': 7748},\n",
       "   'sample_names': ['AmazonBasics AAA Performance Alkaline Batteries (36 Count)']},\n",
       "  '1': {'top_brands': {'Amazon': 1724},\n",
       "   'top_primaryCategories': {'Electronics': 1724},\n",
       "   'top_categories': {'Fire Tablets': 1724,\n",
       "    'Tablets': 1724,\n",
       "    'Computers/Tablets & Networking': 1724,\n",
       "    'Computers & Tablets': 1724,\n",
       "    'All Tablets': 1724},\n",
       "   'sample_names': ['All-New Fire HD 8 Tablet, 8\" HD Display, Wi-Fi, 32 GB - Includes Special Offers, Black',\n",
       "    'All-New Fire HD 8 Tablet, 8 HD Display, Wi-Fi, 16 GB - Includes Special Offers, Black',\n",
       "    'All-New Fire HD 8 Tablet, 8 HD Display, Wi-Fi, 32 GB - Includes Special Offers, Black']},\n",
       "  '2': {'top_brands': {'Amazon': 1374},\n",
       "   'top_primaryCategories': {'Electronics': 1374},\n",
       "   'top_categories': {'All Tablets': 1349,\n",
       "    'Computers & Tablets': 1349,\n",
       "    'Fire Tablets': 1349,\n",
       "    'Tablets': 1349,\n",
       "    'Amazon Tablets': 1321},\n",
       "   'sample_names': ['Amazon Fire TV with 4K Ultra HD and Alexa Voice Remote (Pendant Design) | Streaming Media Player',\n",
       "    'Fire HD 8 Tablet with Alexa, 8\" HD Display, 32 GB, Tangerine - with Special Offers',\n",
       "    'Fire TV Stick Streaming Media Player Pair Kit']},\n",
       "  '3': {'top_brands': {'Amazon': 1365, 'Amazonbasics': 45, 'AmazonBasics': 6},\n",
       "   'top_primaryCategories': {'Electronics,Hardware': 753,\n",
       "    'Electronics': 662,\n",
       "    'Home & Garden': 1},\n",
       "   'top_categories': {'Electronics': 1924,\n",
       "    'Electronics Features': 1382,\n",
       "    'Speakers': 1370,\n",
       "    'Home Improvement': 1365,\n",
       "    'Amazon Echo': 1365},\n",
       "   'sample_names': ['Amazon Echo Show Alexa-enabled Bluetooth Speaker with 7\" Screen',\n",
       "    'Amazon Tap - Alexa-Enabled Portable Bluetooth Speaker',\n",
       "    'AmazonBasics 11.6-Inch Laptop Sleeve']},\n",
       "  '4': {'top_brands': {'Amazon': 860, 'Amazonbasics': 51, 'AmazonBasics': 4},\n",
       "   'top_primaryCategories': {'Electronics': 900,\n",
       "    'Office Supplies': 9,\n",
       "    'Animals & Pet Supplies': 5,\n",
       "    'Home & Garden': 1},\n",
       "   'top_categories': {'Electronics': 1294,\n",
       "    'Fire Tablets': 860,\n",
       "    'Amazon Tablets': 860,\n",
       "    'Computers & Tablets': 860,\n",
       "    'Tablets': 860},\n",
       "   'sample_names': ['Fire Kids Edition Tablet, 7 Display, Wi-Fi, 16 GB, Blue Kid-Proof Case',\n",
       "    'AmazonBasics Nylon CD/DVD Binder (400 Capacity)',\n",
       "    'AmazonBasics Ventilated Adjustable Laptop Stand']},\n",
       "  '5': {'top_brands': {'Amazonbasics': 1494, 'Amazon': 424},\n",
       "   'top_primaryCategories': {'Health & Beauty': 1494, 'Electronics': 424},\n",
       "   'top_categories': {'Health': 2988,\n",
       "    'Electronics Features': 1918,\n",
       "    'Electronics': 1918,\n",
       "    'AA': 1494,\n",
       "    'Camera Batteries': 1494},\n",
       "   'sample_names': ['AmazonBasics AA Performance Alkaline Batteries (48 Count) - Packaging May Vary',\n",
       "    'Kindle Voyage E-reader, 6 High-Resolution Display (300 ppi) with Adaptive Built-in Light, PagePress Sensors, Wi-Fi - Includes Special Offers']},\n",
       "  '6': {'top_brands': {'Amazon': 1108},\n",
       "   'top_primaryCategories': {'Electronics': 851,\n",
       "    'Office Supplies,Electronics': 226,\n",
       "    'Electronics,Media': 31},\n",
       "   'top_categories': {'Computers & Tablets': 1108,\n",
       "    'Tablets': 1077,\n",
       "    'Electronics': 1077,\n",
       "    'All Tablets': 1077,\n",
       "    'iPad & Tablets': 1032},\n",
       "   'sample_names': ['Kindle E-reader - White, 6 Glare-Free Touchscreen Display, Wi-Fi - Includes Special Offers',\n",
       "    'Kindle Oasis E-reader with Leather Charging Cover - Merlot, 6 High-Resolution Display (300 ppi), Wi-Fi - Includes Special Offers',\n",
       "    'All-New Fire HD 8 Tablet, 8\" HD Display, Wi-Fi, 16 GB - Includes Special Offers, Magenta']},\n",
       "  '7': {'top_brands': {'Amazon': 1196},\n",
       "   'top_primaryCategories': {'Toys & Games,Electronics': 1009,\n",
       "    'Electronics': 187},\n",
       "   'top_categories': {'Electronics': 2018,\n",
       "    'Fire Tablets': 1196,\n",
       "    'Tablets': 1196,\n",
       "    'Amazon Tablets': 1196,\n",
       "    'Computers & Tablets': 1196},\n",
       "   'sample_names': ['Fire Kids Edition Tablet, 7 Display, Wi-Fi, 16 GB, Green Kid-Proof Case',\n",
       "    'Fire Kids Edition Tablet, 7 Display, Wi-Fi, 16 GB, Pink Kid-Proof Case']},\n",
       "  '8': {'top_brands': {'Amazon': 800, 'Amazonbasics': 1},\n",
       "   'top_primaryCategories': {'Electronics,Hardware': 590,\n",
       "    'Electronics': 208,\n",
       "    'Electronics,Furniture': 2,\n",
       "    'Animals & Pet Supplies': 1},\n",
       "   'top_categories': {'Amazon': 743,\n",
       "    'Amazon Echo': 614,\n",
       "    'Amazon Home': 614,\n",
       "    'Digital Device 3': 614,\n",
       "    'Voice Assistants': 598},\n",
       "   'sample_names': ['Amazon - Echo Plus w/ Built-In Hub - Silver',\n",
       "    'Fire Tablet with Alexa, 7\" Display, 16 GB, Magenta - with Special Offers',\n",
       "    'Amazon Echo ‚Äì White']},\n",
       "  '9': {'top_brands': {'Amazon': 847},\n",
       "   'top_primaryCategories': {'Electronics': 698,\n",
       "    'Office Supplies,Electronics': 95,\n",
       "    'Electronics,Media': 54},\n",
       "   'top_categories': {'Computers & Tablets': 732,\n",
       "    'Tablets': 692,\n",
       "    'All Tablets': 666,\n",
       "    'Computers/Tablets & Networking': 385,\n",
       "    'Tablets & eBook Readers': 372},\n",
       "   'sample_names': ['Amazon Kindle E-Reader 6\" Wifi (8th Generation, 2016)',\n",
       "    'Amazon 9W PowerFast Official OEM USB Charger and Power Adapter for Fire Tablets and Kindle eReaders',\n",
       "    'All-New Fire HD 8 Tablet, 8 HD Display, Wi-Fi, 16 GB - Includes Special Offers, Blue']},\n",
       "  '10': {'top_brands': {'Amazon': 1016},\n",
       "   'top_primaryCategories': {'Electronics': 952,\n",
       "    'Office Supplies,Electronics': 64},\n",
       "   'top_categories': {'Fire Tablets': 1016,\n",
       "    'Tablets': 1016,\n",
       "    'Amazon Tablets': 1016,\n",
       "    'Computers & Tablets': 1016,\n",
       "    'Computers/Tablets & Networking': 952},\n",
       "   'sample_names': ['Fire Tablet, 7 Display, Wi-Fi, 16 GB - Includes Special Offers, Black',\n",
       "    'Fire HD 10 Tablet, 10.1 HD Display, Wi-Fi, 16 GB - Includes Special Offers, Silver Aluminum',\n",
       "    'All-New Fire HD 8 Kids Edition Tablet, 8 HD Display, 32 GB, Blue Kid-Proof Case']}},\n",
       " 'html_viz_path': 'visualization/umap_kmeans_cluster_confidence_chart.html',\n",
       " 'joblib_model_path': 'models/umap_kmeans_model.joblib'}"
      ]
     },
     "execution_count": 22,
     "metadata": {},
     "output_type": "execute_result"
    }
   ],
   "source": [
    "# Create a dictionary with all relevant metadata\n",
    "model_metadata = {\n",
    "    \"model_name\": \"UMAP + KMeans Product Clustering\",\n",
    "    \"version\": \"v1.0\",\n",
    "    \"created_at\": datetime.now().isoformat(),\n",
    "    \"umap_params\": {\n",
    "        \"n_neighbors\": int(umap_model.n_neighbors),\n",
    "        \"n_components\": int(umap_model.n_components),\n",
    "        \"metric\": umap_model.metric\n",
    "    },\n",
    "    \"kmeans_params\": {\n",
    "        \"n_clusters\": int(kmeans.n_clusters),\n",
    "        \"random_state\": int(kmeans.random_state)\n",
    "    },\n",
    "    \"labeling_method\": \"Automated Labeling via Category + Brand Heuristics\",\n",
    "    \"cluster_labels\": {str(k): v for k, v in auto_cluster_labels.items()},\n",
    "    \"confidence_scores\": {\n",
    "        str(row[\"cluster_id\"]): round(row[\"confidence_score\"], 4)\n",
    "        for _, row in report_df.iterrows()\n",
    "    },\n",
    "    \"top_terms\": {str(k): v for k, v in top_terms.items()},\n",
    "    \"example_names\": {str(k): v for k, v in cluster_summary.items()},\n",
    "    \"html_viz_path\": \"visualization/umap_kmeans_cluster_confidence_chart.html\",\n",
    "    \"joblib_model_path\": \"models/umap_kmeans_model.joblib\"\n",
    "}\n",
    "\n",
    "model_metadata\n"
   ]
  },
  {
   "cell_type": "code",
   "execution_count": 23,
   "id": "9833fcc2",
   "metadata": {},
   "outputs": [
    {
     "data": {
      "text/plain": [
       "Index(['name', 'asins', 'brand', 'categories', 'primaryCategories',\n",
       "       'imageURLs', 'doRecommend', 'rating', 'sourceURLs', 'label',\n",
       "       'clean_text', 'name_cleaned', 'umap_kmeans_cluster', 'umap_x',\n",
       "       'umap_y'],\n",
       "      dtype='object')"
      ]
     },
     "execution_count": 23,
     "metadata": {},
     "output_type": "execute_result"
    }
   ],
   "source": [
    "df.columns"
   ]
  },
  {
   "cell_type": "markdown",
   "id": "1eb76d2c",
   "metadata": {},
   "source": [
    "#### Create a new column in the original dataset to stored the clusters_labels"
   ]
  },
  {
   "cell_type": "code",
   "execution_count": 24,
   "id": "f227e323",
   "metadata": {},
   "outputs": [],
   "source": [
    "# Ensure all keys in auto_cluster_labels are strings if needed\n",
    "cluster_label_map = {int(k): v for k, v in auto_cluster_labels.items()}\n",
    "\n",
    "# Map the descriptive labels to your cluster column\n",
    "df[\"cluster_labels\"] = df[\"umap_kmeans_cluster\"].map(cluster_label_map)"
   ]
  },
  {
   "cell_type": "markdown",
   "id": "d5fb72b2",
   "metadata": {},
   "source": [
    "#### Add confidence score to your main df"
   ]
  },
  {
   "cell_type": "code",
   "execution_count": 25,
   "id": "221e0fbf",
   "metadata": {},
   "outputs": [],
   "source": [
    "# Build mapping dictionary: cluster_id → confidence_score\n",
    "confidence_map = {\n",
    "    int(row[\"cluster_id\"]): round(row[\"confidence_score\"], 4)\n",
    "    for _, row in report_df.iterrows()\n",
    "}\n",
    "\n",
    "# Map confidence score to your DataFrame\n",
    "df[\"cluster_confidence\"] = df[\"umap_kmeans_cluster\"].map(confidence_map)"
   ]
  },
  {
   "cell_type": "markdown",
   "id": "a3a73e4a",
   "metadata": {},
   "source": [
    "#### Dropping unnecessary columns"
   ]
  },
  {
   "cell_type": "code",
   "execution_count": 26,
   "id": "9019bc3e",
   "metadata": {},
   "outputs": [],
   "source": [
    "# Drop umap_x and umap_y\n",
    "df.drop(columns=[\"umap_x\", \"umap_y\"], inplace=True)"
   ]
  },
  {
   "cell_type": "code",
   "execution_count": 27,
   "id": "2c3d7393",
   "metadata": {},
   "outputs": [
    {
     "data": {
      "text/html": [
       "<div>\n",
       "<style scoped>\n",
       "    .dataframe tbody tr th:only-of-type {\n",
       "        vertical-align: middle;\n",
       "    }\n",
       "\n",
       "    .dataframe tbody tr th {\n",
       "        vertical-align: top;\n",
       "    }\n",
       "\n",
       "    .dataframe thead th {\n",
       "        text-align: right;\n",
       "    }\n",
       "</style>\n",
       "<table border=\"1\" class=\"dataframe\">\n",
       "  <thead>\n",
       "    <tr style=\"text-align: right;\">\n",
       "      <th></th>\n",
       "      <th>name</th>\n",
       "      <th>asins</th>\n",
       "      <th>brand</th>\n",
       "      <th>categories</th>\n",
       "      <th>primaryCategories</th>\n",
       "      <th>imageURLs</th>\n",
       "      <th>doRecommend</th>\n",
       "      <th>rating</th>\n",
       "      <th>sourceURLs</th>\n",
       "      <th>label</th>\n",
       "      <th>clean_text</th>\n",
       "      <th>name_cleaned</th>\n",
       "      <th>umap_kmeans_cluster</th>\n",
       "      <th>cluster_labels</th>\n",
       "      <th>cluster_confidence</th>\n",
       "    </tr>\n",
       "  </thead>\n",
       "  <tbody>\n",
       "    <tr>\n",
       "      <th>0</th>\n",
       "      <td>Amazon Kindle E-Reader 6\" Wifi (8th Generation...</td>\n",
       "      <td>B00ZV9PXP2</td>\n",
       "      <td>Amazon</td>\n",
       "      <td>Computers,Electronics Features,Tablets,Electro...</td>\n",
       "      <td>Electronics</td>\n",
       "      <td>https://pisces.bbystatic.com/image2/BestBuy_US...</td>\n",
       "      <td>False</td>\n",
       "      <td>3</td>\n",
       "      <td>https://www.newegg.com/Product/Product.aspx%25...</td>\n",
       "      <td>1</td>\n",
       "      <td>small thought would big small paper turn like ...</td>\n",
       "      <td>amazon kindle ereader  wifi th generation</td>\n",
       "      <td>9</td>\n",
       "      <td>Kindle Device or Accessory</td>\n",
       "      <td>0.85</td>\n",
       "    </tr>\n",
       "    <tr>\n",
       "      <th>1</th>\n",
       "      <td>Amazon Kindle E-Reader 6\" Wifi (8th Generation...</td>\n",
       "      <td>B00ZV9PXP2</td>\n",
       "      <td>Amazon</td>\n",
       "      <td>Computers,Electronics Features,Tablets,Electro...</td>\n",
       "      <td>Electronics</td>\n",
       "      <td>https://pisces.bbystatic.com/image2/BestBuy_US...</td>\n",
       "      <td>True</td>\n",
       "      <td>5</td>\n",
       "      <td>https://www.newegg.com/Product/Product.aspx%25...</td>\n",
       "      <td>2</td>\n",
       "      <td>great light reader easi use beach kindl light ...</td>\n",
       "      <td>amazon kindle ereader  wifi th generation</td>\n",
       "      <td>9</td>\n",
       "      <td>Kindle Device or Accessory</td>\n",
       "      <td>0.85</td>\n",
       "    </tr>\n",
       "    <tr>\n",
       "      <th>2</th>\n",
       "      <td>Amazon Kindle E-Reader 6\" Wifi (8th Generation...</td>\n",
       "      <td>B00ZV9PXP2</td>\n",
       "      <td>Amazon</td>\n",
       "      <td>Computers,Electronics Features,Tablets,Electro...</td>\n",
       "      <td>Electronics</td>\n",
       "      <td>https://pisces.bbystatic.com/image2/BestBuy_US...</td>\n",
       "      <td>True</td>\n",
       "      <td>4</td>\n",
       "      <td>https://www.newegg.com/Product/Product.aspx%25...</td>\n",
       "      <td>2</td>\n",
       "      <td>great price didnt know much id use kindl went ...</td>\n",
       "      <td>amazon kindle ereader  wifi th generation</td>\n",
       "      <td>9</td>\n",
       "      <td>Kindle Device or Accessory</td>\n",
       "      <td>0.85</td>\n",
       "    </tr>\n",
       "  </tbody>\n",
       "</table>\n",
       "</div>"
      ],
      "text/plain": [
       "                                                name       asins   brand  \\\n",
       "0  Amazon Kindle E-Reader 6\" Wifi (8th Generation...  B00ZV9PXP2  Amazon   \n",
       "1  Amazon Kindle E-Reader 6\" Wifi (8th Generation...  B00ZV9PXP2  Amazon   \n",
       "2  Amazon Kindle E-Reader 6\" Wifi (8th Generation...  B00ZV9PXP2  Amazon   \n",
       "\n",
       "                                          categories primaryCategories  \\\n",
       "0  Computers,Electronics Features,Tablets,Electro...       Electronics   \n",
       "1  Computers,Electronics Features,Tablets,Electro...       Electronics   \n",
       "2  Computers,Electronics Features,Tablets,Electro...       Electronics   \n",
       "\n",
       "                                           imageURLs doRecommend  rating  \\\n",
       "0  https://pisces.bbystatic.com/image2/BestBuy_US...       False       3   \n",
       "1  https://pisces.bbystatic.com/image2/BestBuy_US...        True       5   \n",
       "2  https://pisces.bbystatic.com/image2/BestBuy_US...        True       4   \n",
       "\n",
       "                                          sourceURLs  label  \\\n",
       "0  https://www.newegg.com/Product/Product.aspx%25...      1   \n",
       "1  https://www.newegg.com/Product/Product.aspx%25...      2   \n",
       "2  https://www.newegg.com/Product/Product.aspx%25...      2   \n",
       "\n",
       "                                          clean_text  \\\n",
       "0  small thought would big small paper turn like ...   \n",
       "1  great light reader easi use beach kindl light ...   \n",
       "2  great price didnt know much id use kindl went ...   \n",
       "\n",
       "                                name_cleaned  umap_kmeans_cluster  \\\n",
       "0  amazon kindle ereader  wifi th generation                    9   \n",
       "1  amazon kindle ereader  wifi th generation                    9   \n",
       "2  amazon kindle ereader  wifi th generation                    9   \n",
       "\n",
       "               cluster_labels  cluster_confidence  \n",
       "0  Kindle Device or Accessory                0.85  \n",
       "1  Kindle Device or Accessory                0.85  \n",
       "2  Kindle Device or Accessory                0.85  "
      ]
     },
     "execution_count": 27,
     "metadata": {},
     "output_type": "execute_result"
    }
   ],
   "source": [
    "df.head(3)"
   ]
  },
  {
   "cell_type": "markdown",
   "id": "d99e31b8",
   "metadata": {},
   "source": [
    "#### Saving the main df enriched"
   ]
  },
  {
   "cell_type": "code",
   "execution_count": 28,
   "id": "f2d41b6e",
   "metadata": {},
   "outputs": [
    {
     "name": "stdout",
     "output_type": "stream",
     "text": [
      "✅ DataFrame saved to data/cleaned_amazon_reviews_final.csv\n"
     ]
    }
   ],
   "source": [
    "# Save the enriched DataFrame to CSV\n",
    "df.to_csv(\"data/cleaned_amazon_reviews_final.csv\", index=False)\n",
    "\n",
    "print(\"✅ DataFrame saved to data/cleaned_amazon_reviews_final.csv\")"
   ]
  },
  {
   "cell_type": "code",
   "execution_count": 29,
   "id": "1f6d2d4a",
   "metadata": {},
   "outputs": [
    {
     "name": "stdout",
     "output_type": "stream",
     "text": [
      "✅ Model summary saved to clusters_summaries_json/umap_kmeans_model_summary.json\n"
     ]
    }
   ],
   "source": [
    "# Save to JSON file\n",
    "os.makedirs(\"clusters_summaries_json\", exist_ok=True)\n",
    "with open(\"clusters_summaries_json/umap_kmeans_model_summary.json\", \"w\", encoding=\"utf-8\") as f:\n",
    "    json.dump(model_metadata, f, indent=4)\n",
    "\n",
    "print(\"✅ Model summary saved to clusters_summaries_json/umap_kmeans_model_summary.json\")"
   ]
  },
  {
   "cell_type": "code",
   "execution_count": 30,
   "id": "47aecd02",
   "metadata": {},
   "outputs": [
    {
     "data": {
      "text/html": [
       "<div>\n",
       "<style scoped>\n",
       "    .dataframe tbody tr th:only-of-type {\n",
       "        vertical-align: middle;\n",
       "    }\n",
       "\n",
       "    .dataframe tbody tr th {\n",
       "        vertical-align: top;\n",
       "    }\n",
       "\n",
       "    .dataframe thead th {\n",
       "        text-align: right;\n",
       "    }\n",
       "</style>\n",
       "<table border=\"1\" class=\"dataframe\">\n",
       "  <thead>\n",
       "    <tr style=\"text-align: right;\">\n",
       "      <th></th>\n",
       "      <th>cluster_id</th>\n",
       "      <th>auto_label</th>\n",
       "      <th>confidence_score</th>\n",
       "      <th>top_brand</th>\n",
       "      <th>primary_category</th>\n",
       "      <th>sample_name</th>\n",
       "      <th>human_override</th>\n",
       "    </tr>\n",
       "  </thead>\n",
       "  <tbody>\n",
       "    <tr>\n",
       "      <th>0</th>\n",
       "      <td>0</td>\n",
       "      <td>Batteries</td>\n",
       "      <td>0.95</td>\n",
       "      <td>Amazonbasics</td>\n",
       "      <td>Health &amp; Beauty</td>\n",
       "      <td>AmazonBasics AAA Performance Alkaline Batterie...</td>\n",
       "      <td></td>\n",
       "    </tr>\n",
       "    <tr>\n",
       "      <th>1</th>\n",
       "      <td>1</td>\n",
       "      <td>Tablet</td>\n",
       "      <td>0.88</td>\n",
       "      <td>Amazon</td>\n",
       "      <td>Electronics</td>\n",
       "      <td>All-New Fire HD 8 Tablet, 8\" HD Display, Wi-Fi...</td>\n",
       "      <td></td>\n",
       "    </tr>\n",
       "    <tr>\n",
       "      <th>2</th>\n",
       "      <td>2</td>\n",
       "      <td>Tablet</td>\n",
       "      <td>0.88</td>\n",
       "      <td>Amazon</td>\n",
       "      <td>Electronics</td>\n",
       "      <td>Amazon Fire TV with 4K Ultra HD and Alexa Voic...</td>\n",
       "      <td></td>\n",
       "    </tr>\n",
       "    <tr>\n",
       "      <th>3</th>\n",
       "      <td>3</td>\n",
       "      <td>Echo / Alexa Smart Device</td>\n",
       "      <td>0.90</td>\n",
       "      <td>Amazon</td>\n",
       "      <td>Electronics,Hardware</td>\n",
       "      <td>Amazon Echo Show Alexa-enabled Bluetooth Speak...</td>\n",
       "      <td></td>\n",
       "    </tr>\n",
       "    <tr>\n",
       "      <th>4</th>\n",
       "      <td>4</td>\n",
       "      <td>Tablet</td>\n",
       "      <td>0.88</td>\n",
       "      <td>Amazon</td>\n",
       "      <td>Electronics</td>\n",
       "      <td>Fire Kids Edition Tablet, 7 Display, Wi-Fi, 16...</td>\n",
       "      <td></td>\n",
       "    </tr>\n",
       "  </tbody>\n",
       "</table>\n",
       "</div>"
      ],
      "text/plain": [
       "   cluster_id                 auto_label  confidence_score     top_brand  \\\n",
       "0           0                  Batteries              0.95  Amazonbasics   \n",
       "1           1                     Tablet              0.88        Amazon   \n",
       "2           2                     Tablet              0.88        Amazon   \n",
       "3           3  Echo / Alexa Smart Device              0.90        Amazon   \n",
       "4           4                     Tablet              0.88        Amazon   \n",
       "\n",
       "       primary_category                                        sample_name  \\\n",
       "0       Health & Beauty  AmazonBasics AAA Performance Alkaline Batterie...   \n",
       "1           Electronics  All-New Fire HD 8 Tablet, 8\" HD Display, Wi-Fi...   \n",
       "2           Electronics  Amazon Fire TV with 4K Ultra HD and Alexa Voic...   \n",
       "3  Electronics,Hardware  Amazon Echo Show Alexa-enabled Bluetooth Speak...   \n",
       "4           Electronics  Fire Kids Edition Tablet, 7 Display, Wi-Fi, 16...   \n",
       "\n",
       "  human_override  \n",
       "0                 \n",
       "1                 \n",
       "2                 \n",
       "3                 \n",
       "4                 "
      ]
     },
     "execution_count": 30,
     "metadata": {},
     "output_type": "execute_result"
    }
   ],
   "source": [
    "# Save to CSV for export\n",
    "csv_path = \"reports/cluster_auto_labels_report.csv\"\n",
    "report_df.to_csv(csv_path, index=False)\n",
    "\n",
    "report_df.head()"
   ]
  },
  {
   "cell_type": "markdown",
   "id": "c441dddf",
   "metadata": {},
   "source": [
    "#### Saved interactive chart"
   ]
  },
  {
   "cell_type": "code",
   "execution_count": 31,
   "id": "c91f5125",
   "metadata": {},
   "outputs": [],
   "source": [
    "fig.write_html(\"visualization/umap_kmeans_cluster_confidence_chart.html\")\n"
   ]
  },
  {
   "cell_type": "markdown",
   "id": "09963445",
   "metadata": {},
   "source": [
    "#### Serialized trained model"
   ]
  },
  {
   "cell_type": "code",
   "execution_count": 32,
   "id": "3807d9ee",
   "metadata": {},
   "outputs": [
    {
     "name": "stdout",
     "output_type": "stream",
     "text": [
      "✅ Model saved to models/umap_kmeans_model.joblib\n"
     ]
    }
   ],
   "source": [
    "os.makedirs(\"models\", exist_ok=True)\n",
    "\n",
    "# Save trained model\n",
    "joblib.dump(kmeans, \"models/umap_kmeans_model.joblib\")\n",
    "print(\"✅ Model saved to models/umap_kmeans_model.joblib\")"
   ]
  }
 ],
 "metadata": {
  "kernelspec": {
   "display_name": "base",
   "language": "python",
   "name": "python3"
  },
  "language_info": {
   "codemirror_mode": {
    "name": "ipython",
    "version": 3
   },
   "file_extension": ".py",
   "mimetype": "text/x-python",
   "name": "python",
   "nbconvert_exporter": "python",
   "pygments_lexer": "ipython3",
   "version": "3.12.3"
  }
 },
 "nbformat": 4,
 "nbformat_minor": 5
}
